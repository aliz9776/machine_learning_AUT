{
  "nbformat": 4,
  "nbformat_minor": 0,
  "metadata": {
    "colab": {
      "provenance": []
    },
    "kernelspec": {
      "name": "python3",
      "display_name": "Python 3"
    },
    "language_info": {
      "name": "python"
    }
  },
  "cells": [
    {
      "cell_type": "markdown",
      "source": [
        "Problem 5: Iris flowers | KNN"
      ],
      "metadata": {
        "id": "1JeEL6pmOeaE"
      }
    },
    {
      "cell_type": "markdown",
      "source": [
        "a) Load the Iris dataset from scikit-learn and split it into training and test sets using a 80/20 split. Use a random seed of 42 for reproducibility."
      ],
      "metadata": {
        "id": "IqccqryYR4Nt"
      }
    },
    {
      "cell_type": "code",
      "execution_count": null,
      "metadata": {
        "colab": {
          "base_uri": "https://localhost:8080/"
        },
        "id": "8rd0nLSCOaCk",
        "outputId": "8f922a07-5c91-4a1d-e025-28929d780ae5"
      },
      "outputs": [
        {
          "output_type": "stream",
          "name": "stdout",
          "text": [
            "Training data shape: X = (120, 4) , y = (120,)\n",
            "Testing data shape: X = (30, 4) , y = (30,)\n"
          ]
        }
      ],
      "source": [
        "import numpy as np\n",
        "from sklearn.datasets import load_iris\n",
        "from sklearn.model_selection import train_test_split\n",
        "\n",
        "# Load the Iris dataset\n",
        "iris = load_iris()\n",
        "\n",
        "# Split the data into training and test sets\n",
        "X_train, X_test, y_train, y_test = train_test_split(iris.data, iris.target, test_size=0.2, random_state=42)\n",
        "\n",
        "# Print the shapes of the training and testing data sets\n",
        "print(\"Training data shape: X =\", X_train.shape, \", y =\", y_train.shape)\n",
        "print(\"Testing data shape: X =\", X_test.shape, \", y =\", y_test.shape)\n"
      ]
    },
    {
      "cell_type": "markdown",
      "source": [
        " we first load the Iris dataset from scikit-learn library using the load_iris function. Then, we split the data into training and test sets using the train_test_split function. The test_size argument is set to 0.2, which means that 20% of the data is used for testing, and the remaining 80% is used for training. We also set the random_state argument to 42 for reproducibility.\n",
        "\n",
        "Finally, we print the shapes of the training and testing data sets to verify that they have been split properly. The training data consists of 120 samples and the test data consists of 30 samples, which is what we expect given the 80/20 split."
      ],
      "metadata": {
        "id": "eVQdNy22Ow8T"
      }
    },
    {
      "cell_type": "markdown",
      "source": [
        "b) Preprocess the data by scaling the features to have zero mean and unit variance using the StandardScaler from scikit-learn."
      ],
      "metadata": {
        "id": "iqmfUXfAm8lQ"
      }
    },
    {
      "cell_type": "code",
      "source": [
        "from sklearn.preprocessing import StandardScaler\n",
        "\n",
        "# Create a StandardScaler object\n",
        "scaler = StandardScaler()\n",
        "\n",
        "# Fit and transform the training data\n",
        "X_train_scaled = scaler.fit_transform(X_train)\n",
        "\n",
        "# Transform the test data\n",
        "X_test_scaled = scaler.transform(X_test)\n",
        "\n",
        "#checking the mean and standard deviation of the training and test data\n",
        "\n",
        "print(\"Training data mean: \", X_train_scaled.mean(axis=0))\n",
        "print(\"Training data std dev: \", X_train_scaled.std(axis=0))\n",
        "print(\"Test data mean: \", X_test_scaled.mean(axis=0))\n",
        "print(\"Test data std dev: \", X_test_scaled.std(axis=0))\n"
      ],
      "metadata": {
        "colab": {
          "base_uri": "https://localhost:8080/"
        },
        "id": "JSIWOmz3PHni",
        "outputId": "b1e78648-7c96-4c35-9aca-cccf52455b9e"
      },
      "execution_count": null,
      "outputs": [
        {
          "output_type": "stream",
          "name": "stdout",
          "text": [
            "Training data mean:  [ 1.71344420e-15 -1.66579713e-15 -2.23894977e-16 -5.73615229e-17]\n",
            "Training data std dev:  [1. 1. 1. 1.]\n",
            "Test data mean:  [ 0.20824055 -0.04844444  0.08977889  0.10678803]\n",
            "Test data std dev:  [1.01274741 0.84570921 1.03743674 1.0642496 ]\n"
          ]
        }
      ]
    },
    {
      "cell_type": "markdown",
      "source": [
        "we first import the StandardScaler from the sklearn.preprocessing module. Then, we initialize a scaler object of StandardScaler and fit it onto the training data using the fit method. This calculates the mean and variance of each feature in the training data.\n",
        "\n",
        "We then use the transform method of the StandardScaler object to transform both the training and test data. This scales each feature to have zero mean and unit variance based on the values calculated from the training data.\n",
        "\n",
        "After this preprocessing, the X_train and X_test variables contain the scaled training and test data, respectively.\n",
        "\n",
        "As we can see, the mean values are close to zero and the standard deviations are close to one for both the training and test datasets. Therefore, the scaling has been applied correctly."
      ],
      "metadata": {
        "id": "ClDaRyyVPITh"
      }
    },
    {
      "cell_type": "markdown",
      "source": [
        "c) Train a KNN classifier on the training set using different values of K ranging from 1 to 20, and evaluate the performance of the classifier on the test set by computing the classification accuracy for each value of K. Choose the optimal value of K based on the accuracy results."
      ],
      "metadata": {
        "id": "bsfN6HMInJUa"
      }
    },
    {
      "cell_type": "code",
      "source": [
        "from sklearn.neighbors import KNeighborsClassifier\n",
        "from sklearn.metrics import accuracy_score\n",
        "\n",
        "# Define the range of K values to test\n",
        "k_values = range(1, 21)\n",
        "\n",
        "# Initialize an empty list to store the accuracy scores for each K value\n",
        "accuracy_scores = []\n",
        "\n",
        "# Train a KNN classifier for each value of K and compute the accuracy score on the test set\n",
        "for k in k_values:\n",
        "    clf = KNeighborsClassifier(n_neighbors=k)\n",
        "    clf.fit(X_train_scaled, y_train)\n",
        "    y_pred = clf.predict(X_test_scaled)\n",
        "    accuracy = accuracy_score(y_test, y_pred)\n",
        "    print(\"K =\", k, \"accuracy =\", accuracy)\n",
        "    accuracy_scores.append(accuracy)\n"
      ],
      "metadata": {
        "colab": {
          "base_uri": "https://localhost:8080/"
        },
        "id": "XGOlzUCAQYwW",
        "outputId": "3336ff5d-3cef-4285-d527-d783395fe5cd"
      },
      "execution_count": null,
      "outputs": [
        {
          "output_type": "stream",
          "name": "stdout",
          "text": [
            "K = 1 accuracy = 1.0\n",
            "K = 2 accuracy = 1.0\n",
            "K = 3 accuracy = 1.0\n",
            "K = 4 accuracy = 1.0\n",
            "K = 5 accuracy = 1.0\n",
            "K = 6 accuracy = 1.0\n",
            "K = 7 accuracy = 1.0\n",
            "K = 8 accuracy = 1.0\n",
            "K = 9 accuracy = 1.0\n",
            "K = 10 accuracy = 1.0\n",
            "K = 11 accuracy = 1.0\n",
            "K = 12 accuracy = 1.0\n",
            "K = 13 accuracy = 1.0\n",
            "K = 14 accuracy = 1.0\n",
            "K = 15 accuracy = 1.0\n",
            "K = 16 accuracy = 1.0\n",
            "K = 17 accuracy = 1.0\n",
            "K = 18 accuracy = 1.0\n",
            "K = 19 accuracy = 1.0\n",
            "K = 20 accuracy = 1.0\n"
          ]
        }
      ]
    },
    {
      "cell_type": "markdown",
      "source": [
        "we first import the KNeighborsClassifier class and the accuracy_score function from the sklearn.neighbors and sklearn.metrics modules, respectively.\n",
        "\n",
        "Then, we define the range of K values to test using the range function, which generates a sequence of integers from 1 to 20. We also initialize an empty list called accuracy_scores to store the accuracy scores for each value of K.\n",
        "\n",
        "We then train a KNN classifier for each value of K using a for loop. Inside the loop, we create a new KNeighborsClassifier object with n_neighbors set to the current value of K, and then fit this classifier to the scaled training data using the fit method.\n",
        "\n",
        "Next, we compute the predicted class labels for the test data using the predict method, and then compute the accuracy score for the classifier using the accuracy_score function, which takes the true class labels (y_test) and the predicted class labels (y_pred) as inputs.\n",
        "\n",
        "For each value of K, we print out the accuracy score for the classifier. Finally, we append the accuracy score to the accuracy_scores list.\n",
        "\n",
        "We can then plot the accuracy scores as a function of K to visualize the relationship between K and accuracy:"
      ],
      "metadata": {
        "id": "J2VzbG5xXlta"
      }
    },
    {
      "cell_type": "code",
      "source": [
        "import matplotlib.pyplot as plt\n",
        "\n",
        "# Plot the accuracy scores as a function of K\n",
        "plt.plot(k_values, accuracy_scores)\n",
        "plt.xlabel(\"K\")\n",
        "plt.ylabel(\"Accuracy\")\n",
        "plt.title(\"KNN classifier accuracy\")\n",
        "plt.show()\n"
      ],
      "metadata": {
        "colab": {
          "base_uri": "https://localhost:8080/",
          "height": 295
        },
        "id": "QxhYUl7dRPWJ",
        "outputId": "16bf0242-57ab-4c23-aa39-4b4882fe8824"
      },
      "execution_count": null,
      "outputs": [
        {
          "output_type": "display_data",
          "data": {
            "text/plain": [
              "<Figure size 432x288 with 1 Axes>"
            ],
            "image/png": "[encoded data removed]"
          },
          "metadata": {
            "needs_background": "light"
          }
        }
      ]
    },
    {
      "cell_type": "markdown",
      "source": [
        "As can be seen, the accuracy for all values between 1 and 20 is 100, which means that it does not seem normal. "
      ],
      "metadata": {
        "id": "XvHcC7eZcCsk"
      }
    }
  ]
}