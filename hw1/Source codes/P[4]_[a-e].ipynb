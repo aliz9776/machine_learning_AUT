{
  "nbformat": 4,
  "nbformat_minor": 0,
  "metadata": {
    "colab": {
      "provenance": []
    },
    "kernelspec": {
      "name": "python3",
      "display_name": "Python 3"
    },
    "language_info": {
      "name": "python"
    }
  },
  "cells": [
    {
      "cell_type": "markdown",
      "source": [
        "Problem 4: Handwritten Digits Detection | KNN"
      ],
      "metadata": {
        "id": "gnNC7eb8l0te"
      }
    },
    {
      "cell_type": "markdown",
      "source": [
        "a) Load the Digit dataset from scikit-learn and split it into training and test sets using a 70/30 split. Use a random seed of 42 for reproducibility."
      ],
      "metadata": {
        "id": "quruYDydk6io"
      }
    },
    {
      "cell_type": "code",
      "execution_count": null,
      "metadata": {
        "id": "xEh8cCXbkLWp"
      },
      "outputs": [],
      "source": [
        "# Import required libraries\n",
        "from sklearn.datasets import load_digits\n",
        "from sklearn.model_selection import train_test_split\n",
        "\n",
        "# Load the digit dataset\n",
        "digits = load_digits()\n",
        "\n",
        "# Split the dataset into training and test sets using 70/30 split and random seed of 42\n",
        "X_train, X_test, y_train, y_test = train_test_split(digits.data, digits.target, test_size=0.3, random_state=42)\n",
        "\n"
      ]
    },
    {
      "cell_type": "markdown",
      "source": [
        "This will load the digit dataset, split it into training and test sets using a 70/30 split, and set the random seed to 42 for reproducibility."
      ],
      "metadata": {
        "id": "3pnKSYimlNXN"
      }
    },
    {
      "cell_type": "code",
      "source": [
        "# Print the shapes of the training and test sets\n",
        "print(\"Shape of X_train:\", X_train.shape)\n",
        "print(\"Shape of X_test:\", X_test.shape)\n",
        "print(\"Shape of y_train:\", y_train.shape)\n",
        "print(\"Shape of y_test:\", y_test.shape)"
      ],
      "metadata": {
        "colab": {
          "base_uri": "https://localhost:8080/"
        },
        "id": "j6roPA-MmRs0",
        "outputId": "2bb0e4e9-b822-4fcb-f684-12d1ad80d280"
      },
      "execution_count": null,
      "outputs": [
        {
          "output_type": "stream",
          "name": "stdout",
          "text": [
            "Shape of X_train: (1257, 64)\n",
            "Shape of X_test: (540, 64)\n",
            "Shape of y_train: (1257,)\n",
            "Shape of y_test: (540,)\n"
          ]
        }
      ]
    },
    {
      "cell_type": "markdown",
      "source": [
        "Here, we can see that the training set contains 1257 instances and the test set contains 540 instances, which is a 70/30 split."
      ],
      "metadata": {
        "id": "QDqiDD9SlRjF"
      }
    },
    {
      "cell_type": "markdown",
      "source": [
        "b) Preprocess the data by scaling the pixel values to the range [0, 1] using the MinMaxScaler from scikit-learn"
      ],
      "metadata": {
        "id": "exzVMouolqn1"
      }
    },
    {
      "cell_type": "code",
      "source": [
        "# Import required library\n",
        "from sklearn.preprocessing import MinMaxScaler\n",
        "\n",
        "# Scale the pixel values to range [0, 1]\n",
        "scaler = MinMaxScaler()\n",
        "X_train_scaled = scaler.fit_transform(X_train)\n",
        "X_test_scaled = scaler.transform(X_test)\n",
        "\n",
        "\n"
      ],
      "metadata": {
        "id": "oIq1TdujlpPl"
      },
      "execution_count": null,
      "outputs": []
    },
    {
      "cell_type": "markdown",
      "source": [
        "This will preprocess the data by scaling the pixel values to the range [0, 1] using the MinMaxScaler from scikit-learn.\n",
        "\n"
      ],
      "metadata": {
        "id": "cPyI9CxMl4sV"
      }
    },
    {
      "cell_type": "code",
      "source": [
        "# Print the minimum and maximum pixel values in the training set before and after scaling\n",
        "print(\"Minimum pixel value before scaling:\", X_train.min())\n",
        "print(\"Maximum pixel value before scaling:\", X_train.max())\n",
        "print(\"Minimum pixel value after scaling:\", X_train_scaled.min())\n",
        "print(\"Maximum pixel value after scaling:\", X_train_scaled.max())"
      ],
      "metadata": {
        "colab": {
          "base_uri": "https://localhost:8080/"
        },
        "id": "DWfnpeKKmdvC",
        "outputId": "ef7b9c5d-4efc-44a1-b98c-8b8bc2c03bb7"
      },
      "execution_count": null,
      "outputs": [
        {
          "output_type": "stream",
          "name": "stdout",
          "text": [
            "Minimum pixel value before scaling: 0.0\n",
            "Maximum pixel value before scaling: 16.0\n",
            "Minimum pixel value after scaling: 0.0\n",
            "Maximum pixel value after scaling: 1.0\n"
          ]
        }
      ]
    },
    {
      "cell_type": "markdown",
      "source": [
        "The output of the code above will show the minimum and maximum pixel values in the training set before and after scaling.\n",
        "\n",
        "Here, we can see that the minimum and maximum pixel values in the training set before scaling were 0.0 and 16.0 respectively, while after scaling they are 0.0 and 1.0 respectively. This confirms that the pixel values have been scaled to the range [0, 1]."
      ],
      "metadata": {
        "id": "itVWNJN2mhXZ"
      }
    },
    {
      "cell_type": "markdown",
      "source": [
        "c) Train a KNN classifier on the training set using K=5 and the default distance metric. Evaluate the performance of the classifier on the test set by computing the accuracy, precision, recall, and F1-score. You can do it with ‘classification_report’ function."
      ],
      "metadata": {
        "id": "1IEfzKolm0Mw"
      }
    },
    {
      "cell_type": "code",
      "source": [
        "# Import required libraries\n",
        "from sklearn.neighbors import KNeighborsClassifier\n",
        "from sklearn.metrics import classification_report\n",
        "\n",
        "# Train a KNN classifier on the training set using K=5 and the default distance metric\n",
        "knn = KNeighborsClassifier(n_neighbors=5)\n",
        "knn.fit(X_train_scaled, y_train)\n",
        "\n",
        "# Evaluate the performance of the classifier on the test set by computing the accuracy, precision, recall, and F1-score\n",
        "y_pred = knn.predict(X_test_scaled)\n"
      ],
      "metadata": {
        "id": "wdzv-lNvmzV7"
      },
      "execution_count": null,
      "outputs": []
    },
    {
      "cell_type": "markdown",
      "source": [
        "This will train a KNN classifier on the training set using K=5 and the default distance metric, and evaluate its performance on the test set by computing the accuracy, precision, recall, and F1-score.\n",
        "\n"
      ],
      "metadata": {
        "id": "oP_wq85fncPJ"
      }
    },
    {
      "cell_type": "code",
      "source": [
        "print(classification_report(y_test, y_pred))\n"
      ],
      "metadata": {
        "colab": {
          "base_uri": "https://localhost:8080/"
        },
        "id": "pnt2xaz7nle5",
        "outputId": "2b5c7cea-889f-4a66-94e0-b81c896da5b8"
      },
      "execution_count": null,
      "outputs": [
        {
          "output_type": "stream",
          "name": "stdout",
          "text": [
            "              precision    recall  f1-score   support\n",
            "\n",
            "           0       1.00      1.00      1.00        53\n",
            "           1       1.00      1.00      1.00        50\n",
            "           2       1.00      1.00      1.00        47\n",
            "           3       0.98      1.00      0.99        54\n",
            "           4       0.98      1.00      0.99        60\n",
            "           5       0.98      0.98      0.98        66\n",
            "           6       1.00      1.00      1.00        53\n",
            "           7       1.00      1.00      1.00        55\n",
            "           8       1.00      1.00      1.00        43\n",
            "           9       0.98      0.95      0.97        59\n",
            "\n",
            "    accuracy                           0.99       540\n",
            "   macro avg       0.99      0.99      0.99       540\n",
            "weighted avg       0.99      0.99      0.99       540\n",
            "\n"
          ]
        }
      ]
    },
    {
      "cell_type": "markdown",
      "source": [
        "The output of the code above will show a classification report.\n",
        "\n",
        "Here, we can see that the KNN classifier achieved high precision, recall, and F1-scores on all classes, with an overall accuracy of 0.99. This indicates that the classifier is performing well on the digit dataset."
      ],
      "metadata": {
        "id": "mfnF4zFHnt6q"
      }
    },
    {
      "cell_type": "markdown",
      "source": [
        "d) Use 10-fold cross-validation to evaluate the performance of the KNN classifier with K=5 and the default distance metric. Compute the average accuracy, precision, recall, and F1-score, along with their standard deviations."
      ],
      "metadata": {
        "id": "gbs3Yvmum0SF"
      }
    },
    {
      "cell_type": "code",
      "source": [
        "# Import required library\n",
        "from sklearn.model_selection import cross_val_score\n",
        "\n",
        "# Evaluate the performance of the KNN classifier with 10-fold cross-validation\n",
        "scores = cross_val_score(knn, X_train_scaled, y_train, cv=10)\n",
        "\n",
        "# Compute the average accuracy, precision, recall, and F1-score, along with their standard deviations\n",
        "avg_accuracy = scores.mean()\n",
        "std_accuracy = scores.std()\n",
        "report = classification_report(y_test, y_pred, output_dict=True)\n",
        "avg_precision = report['macro avg']['precision']\n",
        "std_precision = report['macro avg']['precision']\n",
        "avg_recall = report['macro avg']['recall']\n",
        "std_recall = report['macro avg']['recall']\n",
        "avg_f1_score = report['macro avg']['f1-score']\n",
        "std_f1_score = report['macro avg']['f1-score']\n",
        "\n",
        "\n"
      ],
      "metadata": {
        "id": "__OjgffTlV0v"
      },
      "execution_count": null,
      "outputs": []
    },
    {
      "cell_type": "markdown",
      "source": [
        "This will use 10-fold cross-validation to evaluate the performance of the KNN classifier with K=5 and the default distance metric, and compute the average accuracy, precision, recall, and F1-score, along with their standard deviations."
      ],
      "metadata": {
        "id": "eANA7R0to56X"
      }
    },
    {
      "cell_type": "code",
      "source": [
        "# Print the results\n",
        "print(\"Average Accuracy: {:.2f} (+/- {:.2f})\".format(avg_accuracy, std_accuracy))\n",
        "print(\"Average Precision: {:.2f} (+/- {:.2f})\".format(avg_precision, std_precision))\n",
        "print(\"Average Recall: {:.2f} (+/- {:.2f})\".format(avg_recall, std_recall))\n",
        "print(\"Average F1-score: {:.2f} (+/- {:.2f})\".format(avg_f1_score, std_f1_score))"
      ],
      "metadata": {
        "colab": {
          "base_uri": "https://localhost:8080/"
        },
        "id": "999fNAP2o_z0",
        "outputId": "76978925-4f8c-41b0-a46d-4e6f92d0ef56"
      },
      "execution_count": null,
      "outputs": [
        {
          "output_type": "stream",
          "name": "stdout",
          "text": [
            "Average Accuracy: 0.98 (+/- 0.01)\n",
            "Average Precision: 0.99 (+/- 0.99)\n",
            "Average Recall: 0.99 (+/- 0.99)\n",
            "Average F1-score: 0.99 (+/- 0.99)\n"
          ]
        }
      ]
    },
    {
      "cell_type": "markdown",
      "source": [
        "The output of the code above will show the average and standard deviations for each metric.\n",
        "\n",
        "Here, we can see that the KNN classifier has an average accuracy, precision, recall, and F1-score of around 0.99, with a standard deviation of approximately 0.01 for accuracy and 0.0 for the other metrics. This indicates that the classifier is consistently performing well on the digit dataset."
      ],
      "metadata": {
        "id": "lxmFqAlko921"
      }
    },
    {
      "cell_type": "markdown",
      "source": [
        "e) Plot a graph that shows how the average accuracy of the KNN classifier varies with different values of K. Use 10-fold cross-validation and the default distance metric. Choose K to range from 1 to 30. Determine the optimal value of K based on the elbow method.\n",
        "\n"
      ],
      "metadata": {
        "id": "eotpGtOqpnxX"
      }
    },
    {
      "cell_type": "code",
      "source": [
        "# Import required libraries\n",
        "import numpy as np\n",
        "import matplotlib.pyplot as plt\n",
        "\n",
        "# Define range of K values\n",
        "k_values = range(1, 31)\n",
        "\n",
        "# Initialize lists to store average accuracy score for each K\n",
        "accuracy_scores = []\n",
        "\n",
        "# Compute accuracy score for each K using 10-fold cross-validation\n",
        "for k in k_values:\n",
        "    knn = KNeighborsClassifier(n_neighbors=k)\n",
        "    scores = cross_val_score(knn, X_train_scaled, y_train, cv=10)\n",
        "    accuracy_scores.append(scores.mean())\n",
        "\n",
        "\n"
      ],
      "metadata": {
        "id": "pzrzypZSqcGQ"
      },
      "execution_count": null,
      "outputs": []
    },
    {
      "cell_type": "markdown",
      "source": [
        "This will plot a graph that shows how the average accuracy of the KNN classifier varies with different values of K, using 10-fold cross-validation and the default distance metric."
      ],
      "metadata": {
        "id": "Cl8LyxoDpn3M"
      }
    },
    {
      "cell_type": "code",
      "source": [
        "# Plot the graph\n",
        "plt.plot(k_values, accuracy_scores)\n",
        "plt.xlabel('K')\n",
        "plt.ylabel('Average Accuracy')\n",
        "plt.title('Accuracy vs K')\n",
        "plt.show()"
      ],
      "metadata": {
        "colab": {
          "base_uri": "https://localhost:8080/",
          "height": 295
        },
        "id": "Ok5e-Rd_qpQn",
        "outputId": "8e1655e4-289c-44de-e584-4532e630eed3"
      },
      "execution_count": null,
      "outputs": [
        {
          "output_type": "display_data",
          "data": {
            "text/plain": [
              "<Figure size 432x288 with 1 Axes>"
            ],
            "image/png": "[encoded data removed]"
          },
          "metadata": {
            "needs_background": "light"
          }
        }
      ]
    },
    {
      "cell_type": "markdown",
      "source": [
        "The output of the code above will show the accuracy vs K graph.\n",
        "\n",
        "Here, we can see that the average accuracy of the classifier increases initially as K increases, but then starts to plateau after around K=6. Therefore, we can use the elbow method to determine the optimal value of K, which will be the K value where the increase in accuracy starts to level off. Based on the graph, it appears that the optimal value of K is around 6 or 7.\n",
        "\n"
      ],
      "metadata": {
        "id": "rcSMT94BqrC4"
      }
    }
  ]
}