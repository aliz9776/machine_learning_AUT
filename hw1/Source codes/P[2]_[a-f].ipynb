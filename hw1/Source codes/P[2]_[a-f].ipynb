{
  "nbformat": 4,
  "nbformat_minor": 0,
  "metadata": {
    "colab": {
      "provenance": []
    },
    "kernelspec": {
      "name": "python3",
      "display_name": "Python 3"
    },
    "language_info": {
      "name": "python"
    },
    "gpuClass": "standard"
  },
  "cells": [
    {
      "cell_type": "markdown",
      "source": [
        "Problem 2: How much does my laptop cost | Regression\n"
      ],
      "metadata": {
        "id": "J7dCVuXub0lo"
      }
    },
    {
      "cell_type": "markdown",
      "source": [
        "*a*)Load CSV file of Laptop Price and show 10 random item"
      ],
      "metadata": {
        "id": "1qX4C0mI1tj0"
      }
    },
    {
      "cell_type": "code",
      "source": [
        "import pandas as pd\n",
        "import numpy as np\n",
        "\n",
        "\n",
        "# Load the CSV file\n",
        "laptop_prices_df = pd.read_csv('laptop_price.csv' , encoding='latin-1')\n",
        "\n",
        "# Show 10 random items\n",
        "print(laptop_prices_df.sample(10))\n"
      ],
      "metadata": {
        "colab": {
          "base_uri": "https://localhost:8080/"
        },
        "id": "U5niuN2x0CL7",
        "outputId": "e4d0abf4-f566-46f2-f6a6-bf34d06c3c03"
      },
      "execution_count": null,
      "outputs": [
        {
          "output_type": "stream",
          "name": "stdout",
          "text": [
            "      laptop_ID Company            Product   TypeName  Inches  \\\n",
            "172         176  Lenovo  IdeaPad 320-15AST   Notebook    15.6   \n",
            "65           67    Asus        ZenBook Pro  Ultrabook    15.6   \n",
            "1292       1310    Dell      Inspiron 3552   Notebook    15.6   \n",
            "535         542    Dell      Latitude 5580   Notebook    15.6   \n",
            "1165       1183    Dell      Inspiron 7567     Gaming    15.6   \n",
            "815         824  Lenovo     Thinkpad T470s  Ultrabook    14.0   \n",
            "320         325      HP      Elitebook 840   Notebook    14.0   \n",
            "350         356    Dell             XPS 15   Notebook    15.6   \n",
            "330         336     MSI         GL72M 7REX     Gaming    17.3   \n",
            "622         629    Dell      Inspiron 5570   Notebook    15.6   \n",
            "\n",
            "                         ScreenResolution  \\\n",
            "172                              1366x768   \n",
            "65                      Full HD 1920x1080   \n",
            "1292                             1366x768   \n",
            "535                     Full HD 1920x1080   \n",
            "1165                4K Ultra HD 3840x2160   \n",
            "815                     Full HD 1920x1080   \n",
            "320                     Full HD 1920x1080   \n",
            "350   4K Ultra HD / Touchscreen 3840x2160   \n",
            "330                     Full HD 1920x1080   \n",
            "622                     Full HD 1920x1080   \n",
            "\n",
            "                                       Cpu   Ram                Memory  \\\n",
            "172              AMD A6-Series 9220 2.9GHz   4GB             500GB HDD   \n",
            "65             Intel Core i7 7700HQ 2.8GHz  16GB             512GB SSD   \n",
            "1292  Intel Celeron Dual Core N3050 1.6GHz   2GB             500GB HDD   \n",
            "535             Intel Core i7 7600U 2.8GHz   8GB             256GB SSD   \n",
            "1165           Intel Core i7 7700HQ 2.8GHz   8GB  128GB SSD +  1TB HDD   \n",
            "815             Intel Core i7 7500U 2.7GHz   8GB             256GB SSD   \n",
            "320             Intel Core i7 7500U 2.7GHz   8GB             256GB SSD   \n",
            "350            Intel Core i7 7700HQ 2.8GHz  16GB             512GB SSD   \n",
            "330            Intel Core i7 7700HQ 2.8GHz   8GB  256GB SSD +  1TB HDD   \n",
            "622             Intel Core i5 8250U 1.6GHz   4GB               1TB HDD   \n",
            "\n",
            "                             Gpu       OpSys  Weight  Price_euros  \n",
            "172       AMD Radeon R4 Graphics       No OS   2.2kg       309.00  \n",
            "65    Nvidia GeForce GTX 1050 Ti  Windows 10   1.8kg      1983.00  \n",
            "1292           Intel HD Graphics  Windows 10  2.20kg       379.00  \n",
            "535         Nvidia GeForce 930MX  Windows 10  1.93kg      1369.00  \n",
            "1165  Nvidia GeForce GTX 1050 Ti  Windows 10  2.62kg      1498.00  \n",
            "815        Intel HD Graphics 620  Windows 10  1.32kg      1859.00  \n",
            "320        Intel HD Graphics 620  Windows 10  1.48kg      1292.00  \n",
            "350      Nvidia GeForce GTX 1050  Windows 10  2.06kg      2027.42  \n",
            "330   Nvidia GeForce GTX 1050 Ti  Windows 10   2.7kg      1199.00  \n",
            "622               AMD Radeon 530  Windows 10   2.2kg       776.00  \n"
          ]
        }
      ]
    },
    {
      "cell_type": "markdown",
      "source": [
        "First, we import the required libraries- pandas and numpy, which are used for working with data structures and vectors, and arrays, respectively.\n",
        "\n",
        "We then load the dataset from the CSV file using the read_csv() method of Pandas.This method reads the CSV file and stores the contents in a Pandas data structure called a DataFrame.\n",
        "\n",
        "Next, we use the sample() method of Pandas to get 10 randomly selected items from the dataset.This method selects n number of random items from the dataset where n is specified in the argument. In this case, we have selected 10 random items.\n",
        "\n",
        "Finally, we display the randomly selected items using the print() function.\n",
        "\n"
      ],
      "metadata": {
        "id": "oGAdNnWDkyU5"
      }
    },
    {
      "cell_type": "markdown",
      "source": [
        "b) Data visualization (at least 5 plots. Interpret the plots)"
      ],
      "metadata": {
        "id": "86HRR7bB2fx2"
      }
    },
    {
      "cell_type": "markdown",
      "source": [
        "1.Scatter Plot: Price vs. Screen size\n"
      ],
      "metadata": {
        "id": "pQ1KZ3bFlnh9"
      }
    },
    {
      "cell_type": "code",
      "source": [
        "# Importing necessary packages for data visualization\n",
        "import seaborn as sns\n",
        "import matplotlib.pyplot as plt\n",
        "\n",
        "# Scatter Plot: Price vs. Screen Size\n",
        "sns.scatterplot(x=\"Inches\", y=\"Price_euros\", data=laptop_prices_df)\n",
        "plt.title(\"Price vs. Screen Size\")\n",
        "plt.xlabel(\"Screen Size\")\n",
        "plt.ylabel(\"Price\")\n",
        "plt.show()"
      ],
      "metadata": {
        "colab": {
          "base_uri": "https://localhost:8080/",
          "height": 295
        },
        "id": "EmpUNNvm2mwX",
        "outputId": "f1366ef8-fad8-4c96-f362-25c42e7c99aa"
      },
      "execution_count": null,
      "outputs": [
        {
          "output_type": "display_data",
          "data": {
            "text/plain": [
              "<Figure size 432x288 with 1 Axes>"
            ],
            "image/png": "[encoded data removed]"
          },
          "metadata": {
            "needs_background": "light"
          }
        }
      ]
    },
    {
      "cell_type": "markdown",
      "source": [
        "In this plot, we use 'Screen Size' as the x-axis variable and 'Price' as the y-axis variable. This plot can help us recognize the effect of increasing screen size on the price of the laptops."
      ],
      "metadata": {
        "id": "PRAcKNrrluRU"
      }
    },
    {
      "cell_type": "markdown",
      "source": [
        "  2.Histogram: Price Distribution"
      ],
      "metadata": {
        "id": "chPOma4Imzjb"
      }
    },
    {
      "cell_type": "code",
      "source": [
        "sns.histplot(data=laptop_prices_df, x=\"Price_euros\")\n",
        "plt.title(\"Price Distribution\")\n",
        "plt.show()\n"
      ],
      "metadata": {
        "colab": {
          "base_uri": "https://localhost:8080/",
          "height": 296
        },
        "id": "g2ptEbuc5lxB",
        "outputId": "31e7341a-cc9c-494e-a52d-1156a8e2d8c5"
      },
      "execution_count": null,
      "outputs": [
        {
          "output_type": "display_data",
          "data": {
            "text/plain": [
              "<Figure size 432x288 with 1 Axes>"
            ],
            "image/png": "[encoded data removed]"
          },
          "metadata": {
            "needs_background": "light"
          }
        }
      ]
    },
    {
      "cell_type": "markdown",
      "source": [
        "This histogram shows the distribution of prices of laptops in the dataset. We can see that most laptops in the dataset have prices between 200 and 1000."
      ],
      "metadata": {
        "id": "Z9RdJRKcnEjx"
      }
    },
    {
      "cell_type": "markdown",
      "source": [
        "  3.Bar Plot: Screen size vs. Average Price"
      ],
      "metadata": {
        "id": "Bxf8cp8SnKkf"
      }
    },
    {
      "cell_type": "code",
      "source": [
        "avg_price_by_screen_size = laptop_prices_df.groupby('Inches')['Price_euros'].mean()\n",
        "\n",
        "sns.barplot(x=avg_price_by_screen_size.index, y=avg_price_by_screen_size.values)\n",
        "plt.xticks(rotation=45)\n",
        "plt.title(\"Screen size vs. Average Price\")\n",
        "plt.show()\n"
      ],
      "metadata": {
        "colab": {
          "base_uri": "https://localhost:8080/",
          "height": 308
        },
        "id": "_a8rrJK15pqR",
        "outputId": "d3189b11-be89-4dc7-c51c-821461dfce7e"
      },
      "execution_count": null,
      "outputs": [
        {
          "output_type": "display_data",
          "data": {
            "text/plain": [
              "<Figure size 432x288 with 1 Axes>"
            ],
            "image/png": "[encoded data removed]"
          },
          "metadata": {
            "needs_background": "light"
          }
        }
      ]
    },
    {
      "cell_type": "markdown",
      "source": [
        "This bar plot shows the average price of laptops based on their screen size. From this plot, we can see that there is a positive correlation between screen size and price, with laptops with larger screens generally costing more."
      ],
      "metadata": {
        "id": "RgzmtufpnmXR"
      }
    },
    {
      "cell_type": "markdown",
      "source": [
        "  4.Box Plot: Brand vs. Price"
      ],
      "metadata": {
        "id": "kjhJSLOsnzaf"
      }
    },
    {
      "cell_type": "code",
      "source": [
        "sns.boxplot(x=\"Company\", y=\"Price_euros\", data=laptop_prices_df)\n",
        "plt.title(\"Brand vs. Price\")\n",
        "plt.xticks(x=\"Company\" ,  rotation=45)\n",
        "plt.show()\n"
      ],
      "metadata": {
        "colab": {
          "base_uri": "https://localhost:8080/",
          "height": 329
        },
        "id": "sS0tyA4x5p7J",
        "outputId": "d90cff05-a77c-4991-aeb1-737d2beaffad"
      },
      "execution_count": null,
      "outputs": [
        {
          "output_type": "display_data",
          "data": {
            "text/plain": [
              "<Figure size 432x288 with 1 Axes>"
            ],
            "image/png": "[encoded data removed]"
          },
          "metadata": {
            "needs_background": "light"
          }
        }
      ]
    },
    {
      "cell_type": "markdown",
      "source": [
        "This box plot shows the distribution of prices for each brand of laptop in the dataset. We can see that the median price for each brand varies, with Apple laptops being the most expensive on average."
      ],
      "metadata": {
        "id": "Siqm09_OotAw"
      }
    },
    {
      "cell_type": "markdown",
      "source": [
        "5.correlation heatmap"
      ],
      "metadata": {
        "id": "cI2ELR6TpcB9"
      }
    },
    {
      "cell_type": "code",
      "source": [
        "\n",
        "\n",
        "# Creating a correlation matrix\n",
        "corr_matrix = laptop_prices_df.corr()\n",
        "\n",
        "# Generating a heatmap to visualize correlations\n",
        "sns.heatmap(corr_matrix, annot=True, cmap='coolwarm')\n",
        "plt.title(\"Correlation Heatmap\")\n",
        "plt.show()\n"
      ],
      "metadata": {
        "colab": {
          "base_uri": "https://localhost:8080/",
          "height": 282
        },
        "id": "bmmIk5pX5qA4",
        "outputId": "39bdc980-bcf0-4f82-ddd6-44910a9226c9"
      },
      "execution_count": null,
      "outputs": [
        {
          "output_type": "display_data",
          "data": {
            "text/plain": [
              "<Figure size 432x288 with 2 Axes>"
            ],
            "image/png": "[encoded data removed]"
          },
          "metadata": {
            "needs_background": "light"
          }
        }
      ]
    },
    {
      "cell_type": "markdown",
      "source": [
        "we will create a correlation heatmap that shows the relationship between different numerical features and their correlations with each other. The reddish color on the heatmap indicates a positive correlation, while the blue color indicates a negative correlation."
      ],
      "metadata": {
        "id": "7Jwk9n8cpgw9"
      }
    },
    {
      "cell_type": "markdown",
      "source": [
        "c) Dataset cleaning and Feature Engineering"
      ],
      "metadata": {
        "id": "jR9BnknZsmB6"
      }
    },
    {
      "cell_type": "code",
      "source": [
        "####  Dataset cleaning\n",
        "\n",
        "# Check for any remaining missing values\n",
        "print(laptop_prices_df.isnull().sum())\n",
        "\n",
        "# Check for any duplicates\n",
        "print(\"number of duplictes :\")\n",
        "print(laptop_prices_df.duplicated().sum())\n",
        "\n",
        "# Check for any outliers\n",
        "print(laptop_prices_df.describe())\n",
        "# Replace NaN values with mean of respective columns\n",
        "laptop_prices_df.fillna(laptop_prices_df.mean(), inplace=True)\n",
        "\n",
        "\n",
        "##### Feature Engineering\n",
        "\n",
        "laptop_prices_df[['ScreenResolutionWidth', 'ScreenResolutionHeight']] = laptop_prices_df['ScreenResolution'].str.extract('(\\d+)x(\\d+)')\n",
        "\n",
        "# Split the Cpu column into CpuBrand and CpuClockSpeed columns\n",
        "cpu_split = laptop_prices_df['Cpu'].str.split(n=2, expand=True)\n",
        "laptop_prices_df['CpuBrand'] = cpu_split[0]\n",
        "\n",
        "laptop_prices_df['CpuClockSpeed'] = cpu_split[2].str.extract(r'([\\d\\.]+)GHz', expand=False).astype(float)\n",
        "\n",
        "# Calculate Screen Size\n",
        "laptop_prices_df['Screen_Size_Square_Inches'] = laptop_prices_df['Inches'].apply(lambda x: x**2)\n",
        "\n",
        "\n",
        "# Split the Gpu column into GPU Brand and GPU Model columns\n",
        "laptop_prices_df[['GPU Brand', 'GPU Model']] = laptop_prices_df['Gpu'].str.split(n=1, expand=True)\n",
        "\n",
        "# Extract Storage Type Information\n",
        "laptop_prices_df['Storage_Type'] = laptop_prices_df['Memory'].apply(lambda x: 'SSD' if 'SSD' in x else 'HDD')\n",
        "\n",
        "# Extract Operating System Type Information\n",
        "laptop_prices_df['OS_Type'] = laptop_prices_df['OpSys'].replace({'Windows 10': 'Windows', 'Windows 7': 'Windows'})\n",
        "\n",
        "# Extract Weight number without \"KG\" unit\n",
        "laptop_prices_df[\"Weight(KG)\"] = laptop_prices_df[\"Weight\"].str[:-2].astype(float)\n",
        "\n",
        "# Extract the RAM number without \"GB\" unit\n",
        "laptop_prices_df[\"Ram(GB)\"] = laptop_prices_df[\"Ram\"].str.extract(\"(\\d+)\").astype(int)\n",
        "\n",
        "\n",
        "# Drop original columns\n",
        "laptop_prices_df.drop([ 'Cpu', 'ScreenResolution', 'Inches', 'Gpu', 'Memory', 'OpSys',\"Ram\" , \"Weight\"], axis=1, inplace=True)\n",
        "print(laptop_prices_df.head(30))\n"
      ],
      "metadata": {
        "colab": {
          "base_uri": "https://localhost:8080/"
        },
        "id": "RifyVKvVsqAB",
        "outputId": "485d2607-60b4-4a2d-b5d9-fe2539c6b6e5"
      },
      "execution_count": null,
      "outputs": [
        {
          "output_type": "stream",
          "name": "stdout",
          "text": [
            "laptop_ID           0\n",
            "Company             0\n",
            "Product             0\n",
            "TypeName            0\n",
            "Inches              0\n",
            "ScreenResolution    0\n",
            "Cpu                 0\n",
            "Ram                 0\n",
            "Memory              0\n",
            "Gpu                 0\n",
            "OpSys               0\n",
            "Weight              0\n",
            "Price_euros         0\n",
            "dtype: int64\n",
            "number of duplictes :\n",
            "0\n",
            "         laptop_ID       Inches  Price_euros\n",
            "count  1303.000000  1303.000000  1303.000000\n",
            "mean    660.155794    15.017191  1123.686992\n",
            "std     381.172104     1.426304   699.009043\n",
            "min       1.000000    10.100000   174.000000\n",
            "25%     331.500000    14.000000   599.000000\n",
            "50%     659.000000    15.600000   977.000000\n",
            "75%     990.500000    15.600000  1487.880000\n",
            "max    1320.000000    18.400000  6099.000000\n",
            "    laptop_ID Company                                  Product  \\\n",
            "0           1   Apple                              MacBook Pro   \n",
            "1           2   Apple                              Macbook Air   \n",
            "2           3      HP                                   250 G6   \n",
            "3           4   Apple                              MacBook Pro   \n",
            "4           5   Apple                              MacBook Pro   \n",
            "5           6    Acer                                 Aspire 3   \n",
            "6           7   Apple                              MacBook Pro   \n",
            "7           8   Apple                              Macbook Air   \n",
            "8           9    Asus                          ZenBook UX430UN   \n",
            "9          10    Acer                                  Swift 3   \n",
            "10         11      HP                                   250 G6   \n",
            "11         12      HP                                   250 G6   \n",
            "12         13   Apple                              MacBook Pro   \n",
            "13         14    Dell                            Inspiron 3567   \n",
            "14         15   Apple                              MacBook 12\"   \n",
            "15         16   Apple                              MacBook Pro   \n",
            "16         17    Dell                            Inspiron 3567   \n",
            "17         18   Apple                              MacBook Pro   \n",
            "18         19  Lenovo                        IdeaPad 320-15IKB   \n",
            "19         20    Dell                                   XPS 13   \n",
            "20         21    Asus                          Vivobook E200HA   \n",
            "21         22  Lenovo                       Legion Y520-15IKBN   \n",
            "22         23      HP                                   255 G6   \n",
            "23         24    Dell                            Inspiron 5379   \n",
            "24         25      HP  15-BS101nv (i7-8550U/8GB/256GB/FHD/W10)   \n",
            "25         26    Dell                            Inspiron 3567   \n",
            "26         27   Apple                              MacBook Air   \n",
            "27         28    Dell                            Inspiron 5570   \n",
            "28         29    Dell                            Latitude 5590   \n",
            "29         30      HP                              ProBook 470   \n",
            "\n",
            "              TypeName  Price_euros ScreenResolutionWidth  \\\n",
            "0            Ultrabook      1339.69                  2560   \n",
            "1            Ultrabook       898.94                  1440   \n",
            "2             Notebook       575.00                  1920   \n",
            "3            Ultrabook      2537.45                  2880   \n",
            "4            Ultrabook      1803.60                  2560   \n",
            "5             Notebook       400.00                  1366   \n",
            "6            Ultrabook      2139.97                  2880   \n",
            "7            Ultrabook      1158.70                  1440   \n",
            "8            Ultrabook      1495.00                  1920   \n",
            "9            Ultrabook       770.00                  1920   \n",
            "10            Notebook       393.90                  1366   \n",
            "11            Notebook       344.99                  1920   \n",
            "12           Ultrabook      2439.97                  2880   \n",
            "13            Notebook       498.90                  1920   \n",
            "14           Ultrabook      1262.40                  2304   \n",
            "15           Ultrabook      1518.55                  2560   \n",
            "16            Notebook       745.00                  1920   \n",
            "17           Ultrabook      2858.00                  2880   \n",
            "18            Notebook       499.00                  1920   \n",
            "19           Ultrabook       979.00                  1920   \n",
            "20             Netbook       191.90                  1366   \n",
            "21              Gaming       999.00                  1920   \n",
            "22            Notebook       258.00                  1366   \n",
            "23  2 in 1 Convertible       819.00                  1920   \n",
            "24           Ultrabook       659.00                  1920   \n",
            "25            Notebook       418.64                  1366   \n",
            "26           Ultrabook      1099.00                  1440   \n",
            "27            Notebook       800.00                  1920   \n",
            "28           Ultrabook      1298.00                  1920   \n",
            "29            Notebook       896.00                  1920   \n",
            "\n",
            "   ScreenResolutionHeight CpuBrand  CpuClockSpeed  Screen_Size_Square_Inches  \\\n",
            "0                    1600    Intel           2.30                     176.89   \n",
            "1                     900    Intel           1.80                     176.89   \n",
            "2                    1080    Intel           2.50                     243.36   \n",
            "3                    1800    Intel           2.70                     237.16   \n",
            "4                    1600    Intel           3.10                     176.89   \n",
            "5                     768      AMD           3.00                     243.36   \n",
            "6                    1800    Intel           2.20                     237.16   \n",
            "7                     900    Intel           1.80                     176.89   \n",
            "8                    1080    Intel           1.80                     196.00   \n",
            "9                    1080    Intel           1.60                     196.00   \n",
            "10                    768    Intel           2.50                     243.36   \n",
            "11                   1080    Intel           2.00                     243.36   \n",
            "12                   1800    Intel           2.80                     237.16   \n",
            "13                   1080    Intel           2.00                     243.36   \n",
            "14                   1440    Intel           1.20                     144.00   \n",
            "15                   1600    Intel           2.30                     176.89   \n",
            "16                   1080    Intel           2.70                     243.36   \n",
            "17                   1800    Intel           2.90                     237.16   \n",
            "18                   1080    Intel           2.40                     243.36   \n",
            "19                   1080    Intel           1.60                     176.89   \n",
            "20                    768    Intel           1.44                     134.56   \n",
            "21                   1080    Intel           2.50                     243.36   \n",
            "22                    768      AMD           1.50                     243.36   \n",
            "23                   1080    Intel           1.60                     176.89   \n",
            "24                   1080    Intel           1.80                     243.36   \n",
            "25                    768    Intel           2.00                     243.36   \n",
            "26                    900    Intel           1.60                     176.89   \n",
            "27                   1080    Intel           1.60                     243.36   \n",
            "28                   1080    Intel           1.90                     243.36   \n",
            "29                   1080    Intel           1.60                     299.29   \n",
            "\n",
            "   GPU Brand               GPU Model Storage_Type   OS_Type  Weight(KG)  \\\n",
            "0      Intel  Iris Plus Graphics 640          SSD     macOS        1.37   \n",
            "1      Intel        HD Graphics 6000          HDD     macOS        1.34   \n",
            "2      Intel         HD Graphics 620          SSD     No OS        1.86   \n",
            "3        AMD          Radeon Pro 455          SSD     macOS        1.83   \n",
            "4      Intel  Iris Plus Graphics 650          SSD     macOS        1.37   \n",
            "5        AMD               Radeon R5          HDD   Windows        2.10   \n",
            "6      Intel       Iris Pro Graphics          HDD  Mac OS X        2.04   \n",
            "7      Intel        HD Graphics 6000          HDD     macOS        1.34   \n",
            "8     Nvidia           GeForce MX150          SSD   Windows        1.30   \n",
            "9      Intel        UHD Graphics 620          SSD   Windows        1.60   \n",
            "10     Intel         HD Graphics 620          HDD     No OS        1.86   \n",
            "11     Intel         HD Graphics 520          HDD     No OS        1.86   \n",
            "12       AMD          Radeon Pro 555          SSD     macOS        1.83   \n",
            "13       AMD          Radeon R5 M430          SSD   Windows        2.20   \n",
            "14     Intel         HD Graphics 615          SSD     macOS        0.92   \n",
            "15     Intel  Iris Plus Graphics 640          SSD     macOS        1.37   \n",
            "16       AMD          Radeon R5 M430          SSD   Windows        2.20   \n",
            "17       AMD          Radeon Pro 560          SSD     macOS        1.83   \n",
            "18    Nvidia           GeForce 940MX          HDD     No OS        2.20   \n",
            "19     Intel        UHD Graphics 620          SSD   Windows        1.22   \n",
            "20     Intel         HD Graphics 400          HDD   Windows        0.98   \n",
            "21    Nvidia        GeForce GTX 1050          SSD   Windows        2.50   \n",
            "22       AMD               Radeon R2          HDD     No OS        1.86   \n",
            "23     Intel        UHD Graphics 620          SSD   Windows        1.62   \n",
            "24     Intel         HD Graphics 620          SSD   Windows        1.91   \n",
            "25     Intel         HD Graphics 520          HDD   Windows        2.30   \n",
            "26     Intel        HD Graphics 6000          HDD  Mac OS X        1.35   \n",
            "27       AMD              Radeon 530          SSD   Windows        2.20   \n",
            "28     Intel        UHD Graphics 620          SSD   Windows        1.88   \n",
            "29    Nvidia           GeForce 930MX          HDD   Windows        2.50   \n",
            "\n",
            "    Ram(GB)  \n",
            "0         8  \n",
            "1         8  \n",
            "2         8  \n",
            "3        16  \n",
            "4         8  \n",
            "5         4  \n",
            "6        16  \n",
            "7         8  \n",
            "8        16  \n",
            "9         8  \n",
            "10        4  \n",
            "11        4  \n",
            "12       16  \n",
            "13        4  \n",
            "14        8  \n",
            "15        8  \n",
            "16        8  \n",
            "17       16  \n",
            "18        8  \n",
            "19        8  \n",
            "20        2  \n",
            "21        8  \n",
            "22        4  \n",
            "23        8  \n",
            "24        8  \n",
            "25        4  \n",
            "26        8  \n",
            "27        8  \n",
            "28        8  \n",
            "29        8  \n"
          ]
        },
        {
          "output_type": "stream",
          "name": "stderr",
          "text": [
            "<ipython-input-58-4ad086c04c51>:13: FutureWarning: Dropping of nuisance columns in DataFrame reductions (with 'numeric_only=None') is deprecated; in a future version this will raise TypeError.  Select only valid columns before calling the reduction.\n",
            "  laptop_prices_df.fillna(laptop_prices_df.mean(), inplace=True)\n"
          ]
        }
      ]
    },
    {
      "cell_type": "markdown",
      "source": [
        "d) Data preparation for ML (e.g., encoding, scaling, train/test/validation split)"
      ],
      "metadata": {
        "id": "fYFfPgXf4XfQ"
      }
    },
    {
      "cell_type": "code",
      "source": [
        "from sklearn.preprocessing import StandardScaler\n",
        "from sklearn.model_selection import train_test_split\n",
        "\n",
        "\n",
        "\n",
        "x = laptop_prices_df.drop(['Price_euros'], axis=1)\n",
        "y = laptop_prices_df['Price_euros']\n",
        "\n",
        "# Encoding categorical variables\n",
        "\n",
        "x = pd.get_dummies(x, columns=['Company', 'Product', 'TypeName', 'OS_Type' , 'Storage_Type' , 'GPU Model' , 'CpuBrand' , 'GPU Brand' , 'Ram(GB)'])\n",
        "\n",
        "#Scaling numerical features\n",
        "\n",
        "numerical_cols = ['Screen_Size_Square_Inches', 'CpuClockSpeed', 'ScreenResolutionWidth', 'ScreenResolutionHeight'  , 'Weight(KG)' ]\n",
        "\n",
        "#Scaling numerical features\n",
        "\n",
        "scaler = StandardScaler()\n",
        "x[numerical_cols] = scaler.fit_transform(x[numerical_cols])\n",
        "\n",
        "#Split the data into train, validation, and test sets\n",
        "\n",
        "X_train_val, X_test, y_train_val, y_test = train_test_split(x, y, test_size=0.2, random_state=42)\n",
        "X_train, X_val, y_train, y_val = train_test_split(X_train_val, y_train_val, test_size=0.25, random_state=42)\n",
        "\n",
        "\n",
        "\n",
        "print(x.head(30))\n",
        "\n"
      ],
      "metadata": {
        "id": "ftC_xcKy5D1b",
        "colab": {
          "base_uri": "https://localhost:8080/"
        },
        "outputId": "4107e866-b284-4831-f79e-99d7674d9570"
      },
      "execution_count": null,
      "outputs": [
        {
          "output_type": "stream",
          "name": "stdout",
          "text": [
            "    laptop_ID  ScreenResolutionWidth  ScreenResolutionHeight  CpuClockSpeed  \\\n",
            "0           1               1.345362                1.860586       0.002426   \n",
            "1           2              -0.919776               -0.600648      -0.985431   \n",
            "2           3               0.050997                0.032241       0.397569   \n",
            "3           4               1.992544                2.563795       0.792712   \n",
            "4           5               1.345362                1.860586       1.582997   \n",
            "5           6              -1.069437               -1.064766       1.385426   \n",
            "6           7               1.992544                2.563795      -0.195145   \n",
            "7           8              -0.919776               -0.600648      -0.985431   \n",
            "8           9               0.050997                0.032241      -0.985431   \n",
            "9          10               0.050997                0.032241      -1.380574   \n",
            "10         11              -1.069437               -1.064766       0.397569   \n",
            "11         12               0.050997                0.032241      -0.590288   \n",
            "12         13               1.992544                2.563795       0.990283   \n",
            "13         14               0.050997                0.032241      -0.590288   \n",
            "14         15               0.827616                1.298018      -2.170859   \n",
            "15         16               1.345362                1.860586       0.002426   \n",
            "16         17               0.050997                0.032241       0.792712   \n",
            "17         18               1.992544                2.563795       1.187854   \n",
            "18         19               0.050997                0.032241       0.199997   \n",
            "19         20               0.050997                0.032241      -1.380574   \n",
            "20         21              -1.069437               -1.064766      -1.696688   \n",
            "21         22               0.050997                0.032241       0.397569   \n",
            "22         23              -1.069437               -1.064766      -1.578145   \n",
            "23         24               0.050997                0.032241      -1.380574   \n",
            "24         25               0.050997                0.032241      -0.985431   \n",
            "25         26              -1.069437               -1.064766      -0.590288   \n",
            "26         27              -0.919776               -0.600648      -1.380574   \n",
            "27         28               0.050997                0.032241      -1.380574   \n",
            "28         29               0.050997                0.032241      -0.787860   \n",
            "29         30               0.050997                0.032241      -1.380574   \n",
            "\n",
            "    Screen_Size_Square_Inches  Weight(KG)  Company_Acer  Company_Apple  \\\n",
            "0                   -1.206182   -1.005283             0              1   \n",
            "1                   -1.206182   -1.050381             0              1   \n",
            "2                    0.376463   -0.268684             0              0   \n",
            "3                    0.228842   -0.313782             0              1   \n",
            "4                   -1.206182   -1.005283             0              1   \n",
            "5                    0.376463    0.092099             1              0   \n",
            "6                    0.228842    0.001904             0              1   \n",
            "7                   -1.206182   -1.050381             0              1   \n",
            "8                   -0.751174   -1.110512             0              0   \n",
            "9                   -0.751174   -0.659533             1              0   \n",
            "10                   0.376463   -0.268684             0              0   \n",
            "11                   0.376463   -0.268684             0              0   \n",
            "12                   0.228842   -0.313782             0              1   \n",
            "13                   0.376463    0.242426             0              0   \n",
            "14                  -1.989290   -1.681752             0              1   \n",
            "15                  -1.206182   -1.005283             0              1   \n",
            "16                   0.376463    0.242426             0              0   \n",
            "17                   0.228842   -0.313782             0              1   \n",
            "18                   0.376463    0.242426             0              0   \n",
            "19                  -1.206182   -1.230773             0              0   \n",
            "20                  -2.214056   -1.591556             0              0   \n",
            "21                   0.376463    0.693405             0              0   \n",
            "22                   0.376463   -0.268684             0              0   \n",
            "23                  -1.206182   -0.629467             0              0   \n",
            "24                   0.376463   -0.193521             0              0   \n",
            "25                   0.376463    0.392752             0              0   \n",
            "26                  -1.206182   -1.035349             0              1   \n",
            "27                   0.376463    0.242426             0              0   \n",
            "28                   0.376463   -0.238619             0              0   \n",
            "29                   1.708152    0.693405             0              0   \n",
            "\n",
            "    Company_Asus  Company_Chuwi  ...  GPU Brand_Nvidia  Ram(GB)_2  Ram(GB)_4  \\\n",
            "0              0              0  ...                 0          0          0   \n",
            "1              0              0  ...                 0          0          0   \n",
            "2              0              0  ...                 0          0          0   \n",
            "3              0              0  ...                 0          0          0   \n",
            "4              0              0  ...                 0          0          0   \n",
            "5              0              0  ...                 0          0          1   \n",
            "6              0              0  ...                 0          0          0   \n",
            "7              0              0  ...                 0          0          0   \n",
            "8              1              0  ...                 1          0          0   \n",
            "9              0              0  ...                 0          0          0   \n",
            "10             0              0  ...                 0          0          1   \n",
            "11             0              0  ...                 0          0          1   \n",
            "12             0              0  ...                 0          0          0   \n",
            "13             0              0  ...                 0          0          1   \n",
            "14             0              0  ...                 0          0          0   \n",
            "15             0              0  ...                 0          0          0   \n",
            "16             0              0  ...                 0          0          0   \n",
            "17             0              0  ...                 0          0          0   \n",
            "18             0              0  ...                 1          0          0   \n",
            "19             0              0  ...                 0          0          0   \n",
            "20             1              0  ...                 0          1          0   \n",
            "21             0              0  ...                 1          0          0   \n",
            "22             0              0  ...                 0          0          1   \n",
            "23             0              0  ...                 0          0          0   \n",
            "24             0              0  ...                 0          0          0   \n",
            "25             0              0  ...                 0          0          1   \n",
            "26             0              0  ...                 0          0          0   \n",
            "27             0              0  ...                 0          0          0   \n",
            "28             0              0  ...                 0          0          0   \n",
            "29             0              0  ...                 1          0          0   \n",
            "\n",
            "    Ram(GB)_6  Ram(GB)_8  Ram(GB)_12  Ram(GB)_16  Ram(GB)_24  Ram(GB)_32  \\\n",
            "0           0          1           0           0           0           0   \n",
            "1           0          1           0           0           0           0   \n",
            "2           0          1           0           0           0           0   \n",
            "3           0          0           0           1           0           0   \n",
            "4           0          1           0           0           0           0   \n",
            "5           0          0           0           0           0           0   \n",
            "6           0          0           0           1           0           0   \n",
            "7           0          1           0           0           0           0   \n",
            "8           0          0           0           1           0           0   \n",
            "9           0          1           0           0           0           0   \n",
            "10          0          0           0           0           0           0   \n",
            "11          0          0           0           0           0           0   \n",
            "12          0          0           0           1           0           0   \n",
            "13          0          0           0           0           0           0   \n",
            "14          0          1           0           0           0           0   \n",
            "15          0          1           0           0           0           0   \n",
            "16          0          1           0           0           0           0   \n",
            "17          0          0           0           1           0           0   \n",
            "18          0          1           0           0           0           0   \n",
            "19          0          1           0           0           0           0   \n",
            "20          0          0           0           0           0           0   \n",
            "21          0          1           0           0           0           0   \n",
            "22          0          0           0           0           0           0   \n",
            "23          0          1           0           0           0           0   \n",
            "24          0          1           0           0           0           0   \n",
            "25          0          0           0           0           0           0   \n",
            "26          0          1           0           0           0           0   \n",
            "27          0          1           0           0           0           0   \n",
            "28          0          1           0           0           0           0   \n",
            "29          0          1           0           0           0           0   \n",
            "\n",
            "    Ram(GB)_64  \n",
            "0            0  \n",
            "1            0  \n",
            "2            0  \n",
            "3            0  \n",
            "4            0  \n",
            "5            0  \n",
            "6            0  \n",
            "7            0  \n",
            "8            0  \n",
            "9            0  \n",
            "10           0  \n",
            "11           0  \n",
            "12           0  \n",
            "13           0  \n",
            "14           0  \n",
            "15           0  \n",
            "16           0  \n",
            "17           0  \n",
            "18           0  \n",
            "19           0  \n",
            "20           0  \n",
            "21           0  \n",
            "22           0  \n",
            "23           0  \n",
            "24           0  \n",
            "25           0  \n",
            "26           0  \n",
            "27           0  \n",
            "28           0  \n",
            "29           0  \n",
            "\n",
            "[30 rows x 785 columns]\n"
          ]
        }
      ]
    },
    {
      "cell_type": "markdown",
      "source": [
        "e) Train the model with K-fold cross-validation for choose the best degree. Draw a plot to show the changes in MSE with increasing regression degree on the validation data."
      ],
      "metadata": {
        "id": "7iszCz0irUQ6"
      }
    },
    {
      "cell_type": "code",
      "source": [
        "from sklearn.linear_model import LinearRegression\n",
        "from sklearn.preprocessing import PolynomialFeatures\n",
        "from sklearn.metrics import r2_score\n",
        "from sklearn.metrics import mean_squared_error\n",
        "from sklearn.model_selection import cross_validate\n",
        "from sklearn.model_selection import train_test_split\n",
        "from sklearn.feature_selection import SelectKBest, f_regression\n",
        "\n",
        "\n",
        "# Perform feature selection using SelectKBest with k=10\n",
        "selector = SelectKBest(f_regression, k=10)\n",
        "X_train_selected = selector.fit_transform(X_train, y_train)\n",
        "X_test_selected = selector.transform(X_test)\n",
        "\n",
        "# Get the indices of the selected features\n",
        "selected_indices = selector.get_support()\n",
        "\n",
        "# Get the names of the selected columns\n",
        "selected_columns = x.columns[selected_indices]\n",
        "\n",
        "# Print the selected column names\n",
        "print(selected_columns)\n",
        "\n",
        "## Let's find out the model we need to select\n",
        "maxdegree=7 # The maximum degree we would like to test\n",
        "training_error=[]\n",
        "cross_validation_error=[]\n",
        "for d in range(1,maxdegree):\n",
        "    x_poly_train=PolynomialFeatures(degree=d).fit_transform(X_train_selected)\n",
        "    x_poly_test=PolynomialFeatures(degree=d).fit_transform(X_test_selected)\n",
        "    lr=LinearRegression(fit_intercept=False)\n",
        "    model = LinearRegression(fit_intercept=False)\n",
        "    model=model.fit(x_poly_train,y_train)\n",
        "    y_train_pred=model.predict(x_poly_train)\n",
        "    mse_train=mean_squared_error(y_train,y_train_pred)\n",
        "    cve=cross_validate(lr,x_poly_train,y_train,scoring='neg_mean_squared_error',cv=5,return_train_score=True)\n",
        "    training_error.append(mse_train)\n",
        "    cross_validation_error.append(np.mean(np.absolute(cve['test_score'])))\n",
        "    \n",
        "\n",
        "fig,ax=plt.subplots(figsize=(6,6))\n",
        "ax.plot(range(1,maxdegree),cross_validation_error)\n",
        "ax.set_xlabel('Degree',fontsize=20)\n",
        "ax.set_ylabel('MSE',fontsize=20)\n",
        "ax.set_title('MSE VS Degree',fontsize=25)"
      ],
      "metadata": {
        "colab": {
          "base_uri": "https://localhost:8080/",
          "height": 526
        },
        "id": "SGnLdvHnipLR",
        "outputId": "b11cbe90-5478-45fd-a228-cfddbc4b6fa7"
      },
      "execution_count": null,
      "outputs": [
        {
          "output_type": "stream",
          "name": "stdout",
          "text": [
            "Index(['ScreenResolutionWidth', 'ScreenResolutionHeight', 'CpuClockSpeed',\n",
            "       'TypeName_Gaming', 'TypeName_Notebook', 'Storage_Type_HDD',\n",
            "       'Storage_Type_SSD', 'GPU Model_GeForce GTX 1070', 'Ram(GB)_4',\n",
            "       'Ram(GB)_16'],\n",
            "      dtype='object')\n"
          ]
        },
        {
          "output_type": "execute_result",
          "data": {
            "text/plain": [
              "Text(0.5, 1.0, 'MSE VS Degree')"
            ]
          },
          "metadata": {},
          "execution_count": 60
        },
        {
          "output_type": "display_data",
          "data": {
            "text/plain": [
              "<Figure size 432x432 with 1 Axes>"
            ],
            "image/png": "[encoded data removed]"
          },
          "metadata": {
            "needs_background": "light"
          }
        }
      ]
    },
    {
      "cell_type": "markdown",
      "source": [
        "f) Train the final model with best degree and report MSE and R2 on test data.\n",
        "\n",
        "\n",
        "\n"
      ],
      "metadata": {
        "id": "PwmcttuJl36r"
      }
    },
    {
      "cell_type": "code",
      "source": [
        "#best degree is 3 from part e\n",
        "best_degree = 3\n",
        "\n",
        "# train final model with best degree on full training set and evaluate on test set\n",
        "x_poly_train = PolynomialFeatures(degree=best_degree).fit_transform(X_train_selected)\n",
        "x_poly_test = PolynomialFeatures(degree=best_degree).fit_transform(X_test_selected)\n",
        "\n",
        "lr = LinearRegression(fit_intercept=False)\n",
        "lr.fit(x_poly_train, y_train)\n",
        "\n",
        "y_test_pred = lr.predict(x_poly_test)\n",
        "mse_test = mean_squared_error(y_test, y_test_pred)\n",
        "r2_test = lr.score(x_poly_test, y_test)\n",
        "\n",
        "print(f'Test MSE: {mse_test:.4f}')\n",
        "print(f'Test R2 Score: {r2_test:.4f}')"
      ],
      "metadata": {
        "colab": {
          "base_uri": "https://localhost:8080/"
        },
        "id": "RvTVFEEvl3Z0",
        "outputId": "7f33f478-cc68-4411-ca72-8a1b24212096"
      },
      "execution_count": null,
      "outputs": [
        {
          "output_type": "stream",
          "name": "stdout",
          "text": [
            "Test MSE: 371469762524177235968.0000\n",
            "Test R2 Score: -731345469099873.2500\n"
          ]
        }
      ]
    }
  ]
}