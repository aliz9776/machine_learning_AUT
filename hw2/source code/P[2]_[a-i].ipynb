{
  "nbformat": 4,
  "nbformat_minor": 0,
  "metadata": {
    "colab": {
      "provenance": []
    },
    "kernelspec": {
      "name": "python3",
      "display_name": "Python 3"
    },
    "language_info": {
      "name": "python"
    }
  },
  "cells": [
    {
      "cell_type": "markdown",
      "source": [
        "Problem 2: Cancer | Preprocessing Dataset"
      ],
      "metadata": {
        "id": "fSFUWq7UUn1d"
      }
    },
    {
      "cell_type": "markdown",
      "source": [
        "Cancer is a major health concern worldwide, and it is one of the leading causes of death globally. According to the World Health Organization (WHO), cancer is responsible for an estimated 9.6 million deaths worldwide in 2018, making it the second leading cause of death after cardiovascular diseases. The cancer dataset is a well-known dataset that is often used in machine learning research. It contains measurements of various features of breast mass samples that can be used to predict whether a mass is benign (non-cancerous) or malignant (cancerous). The dataset was originally compiled by Dr. William H. Wolberg. The dataset contains a total of 569 instances, with 212 instances corresponding to malignant masses and 357 instances corresponding to benign masses. cancer.csv has been provided in the exercise file, which is a collection of personal information and the likelihood of each person's cancer between 0 and 1. Some columns have been removed from this dataset for various reasons, and of course, many data are incomplete. In this exercise, we ask you to perform the following tasks on the dataset in the best possible way:"
      ],
      "metadata": {
        "id": "kb8DvdkrlRXG"
      }
    },
    {
      "cell_type": "markdown",
      "source": [
        "a) Load the data and convert the cancer probability from a number to an optimal 5-category. Explain how you do this."
      ],
      "metadata": {
        "id": "NiOWONQOdnIL"
      }
    },
    {
      "cell_type": "code",
      "execution_count": null,
      "metadata": {
        "colab": {
          "base_uri": "https://localhost:8080/"
        },
        "id": "OKqkf9aUdfqe",
        "outputId": "2ab9c7ae-8f60-4a41-da09-4270d96da451"
      },
      "outputs": [
        {
          "output_type": "stream",
          "name": "stdout",
          "text": [
            "   user_id  weight  height  salads_per_week  veggies_fruits_per_day  \\\n",
            "0       55   140.0    69.0              0.0                     NaN   \n",
            "1       36   150.0    67.0              2.0                     1.0   \n",
            "2       39   105.0    66.0              0.0                     2.0   \n",
            "3       37   220.0    77.0              2.0                     5.0   \n",
            "4       72   135.0    62.0              0.0                     1.0   \n",
            "\n",
            "    healthy_diet  aerobic_per_week  sports_per_week current_smoking  \\\n",
            "0  Below average               2.0              0.0           Never   \n",
            "1  Below average               3.0              3.0           Never   \n",
            "2        Average               1.0              0.0           Never   \n",
            "3   Very healthy               5.0              5.0           Never   \n",
            "4      Unhealthy               0.0              0.0           Never   \n",
            "\n",
            "   survey.month  prob_cancer cancer_category  \n",
            "0       2008.09     0.066120        Very Low  \n",
            "1       2008.09     0.366939             Low  \n",
            "2       2008.09     0.805540       Very High  \n",
            "3       2008.09     0.537907        Moderate  \n",
            "4       2008.09     0.098464        Very Low  \n"
          ]
        }
      ],
      "source": [
        "import pandas as pd\n",
        "\n",
        "# Load the dataset with tab as delimiter\n",
        "cancer_df = pd.read_csv('cancer.csv', delimiter='\\t')\n",
        "\n",
        "# Define bin edges and labels\n",
        "bin_edges = [0, 0.2, 0.4, 0.6, 0.8, 1.0]\n",
        "bin_labels = ['Very Low', 'Low', 'Moderate', 'High', 'Very High']\n",
        "\n",
        "# Use cut function to create 5-category variable\n",
        "cancer_df['cancer_category'] = pd.cut(cancer_df['prob_cancer'], bins=bin_edges, labels=bin_labels)\n",
        "\n",
        "# Display the updated dataset\n",
        "print(cancer_df.head())\n"
      ]
    },
    {
      "cell_type": "markdown",
      "source": [
        "b) Describe the problems with the height column data and try to implement the best solution for it and apply it to the data."
      ],
      "metadata": {
        "id": "i1yHcAVwoErE"
      }
    },
    {
      "cell_type": "code",
      "source": [
        "# Convert 'height' column to numeric format, and replace invalid values with NaN\n",
        "cancer_df['height'] = pd.to_numeric(cancer_df['height'], errors='coerce')\n",
        "\n",
        "# Replace missing values in 'height' column with mean value\n",
        "mean_height = cancer_df['height'].mean()\n",
        "cancer_df['height'].fillna(mean_height, inplace=True)\n",
        "\n",
        "# Convert 'height' column to centimeters (assuming it's in inches)\n",
        "cancer_df['height_cm'] = cancer_df['height'] * 2.54\n",
        "\n",
        "# Display the updated dataset\n",
        "print(cancer_df.head())\n"
      ],
      "metadata": {
        "colab": {
          "base_uri": "https://localhost:8080/"
        },
        "id": "tY5gnkZXoGlz",
        "outputId": "f577fb9a-7259-4735-a11b-504f8eb722d7"
      },
      "execution_count": null,
      "outputs": [
        {
          "output_type": "stream",
          "name": "stdout",
          "text": [
            "   user_id  weight  height  salads_per_week  veggies_fruits_per_day  \\\n",
            "0       55   140.0    69.0              0.0                     NaN   \n",
            "1       36   150.0    67.0              2.0                     1.0   \n",
            "2       39   105.0    66.0              0.0                     2.0   \n",
            "3       37   220.0    77.0              2.0                     5.0   \n",
            "4       72   135.0    62.0              0.0                     1.0   \n",
            "\n",
            "    healthy_diet  aerobic_per_week  sports_per_week current_smoking  \\\n",
            "0  Below average               2.0              0.0           Never   \n",
            "1  Below average               3.0              3.0           Never   \n",
            "2        Average               1.0              0.0           Never   \n",
            "3   Very healthy               5.0              5.0           Never   \n",
            "4      Unhealthy               0.0              0.0           Never   \n",
            "\n",
            "   survey.month  prob_cancer cancer_category  height_cm  \n",
            "0       2008.09     0.066120        Very Low     175.26  \n",
            "1       2008.09     0.366939             Low     170.18  \n",
            "2       2008.09     0.805540       Very High     167.64  \n",
            "3       2008.09     0.537907        Moderate     195.58  \n",
            "4       2008.09     0.098464        Very Low     157.48  \n"
          ]
        }
      ]
    },
    {
      "cell_type": "markdown",
      "source": [
        "c) Remove the rows that have empty or invalid data in the current_smoking column"
      ],
      "metadata": {
        "id": "f87x-350o4pC"
      }
    },
    {
      "cell_type": "code",
      "source": [
        "# Drop rows with missing values in 'current_smoking' column\n",
        "cancer_df.dropna(subset=['current_smoking'], inplace=True)\n",
        "\n",
        "# Display the updated dataset\n",
        "print(cancer_df.head())"
      ],
      "metadata": {
        "colab": {
          "base_uri": "https://localhost:8080/"
        },
        "id": "ASiyU53Yo5te",
        "outputId": "396112b4-3f20-453e-b4e2-c1662c6c2465"
      },
      "execution_count": null,
      "outputs": [
        {
          "output_type": "stream",
          "name": "stdout",
          "text": [
            "   user_id  weight  height  salads_per_week  veggies_fruits_per_day  \\\n",
            "0       55   140.0    69.0              0.0                     NaN   \n",
            "1       36   150.0    67.0              2.0                     1.0   \n",
            "2       39   105.0    66.0              0.0                     2.0   \n",
            "3       37   220.0    77.0              2.0                     5.0   \n",
            "4       72   135.0    62.0              0.0                     1.0   \n",
            "\n",
            "    healthy_diet  aerobic_per_week  sports_per_week current_smoking  \\\n",
            "0  Below average               2.0              0.0           Never   \n",
            "1  Below average               3.0              3.0           Never   \n",
            "2        Average               1.0              0.0           Never   \n",
            "3   Very healthy               5.0              5.0           Never   \n",
            "4      Unhealthy               0.0              0.0           Never   \n",
            "\n",
            "   survey.month  prob_cancer cancer_category  height_cm  \n",
            "0       2008.09     0.066120        Very Low     175.26  \n",
            "1       2008.09     0.366939             Low     170.18  \n",
            "2       2008.09     0.805540       Very High     167.64  \n",
            "3       2008.09     0.537907        Moderate     195.58  \n",
            "4       2008.09     0.098464        Very Low     157.48  \n"
          ]
        }
      ]
    },
    {
      "cell_type": "markdown",
      "source": [
        "d) Fill the remaining empty or invalid data in other columns with the mean of all data."
      ],
      "metadata": {
        "id": "UaoZnw_9pDoS"
      }
    },
    {
      "cell_type": "code",
      "source": [
        "# Calculate the mean of all non-null values in the dataframe\n",
        "mean_values = cancer_df.mean()\n",
        "\n",
        "# Fill empty or invalid data in other columns with the mean values\n",
        "cancer_df.fillna(mean_values, inplace=True)\n",
        "\n",
        "# Display the updated dataset\n",
        "print(cancer_df.head())"
      ],
      "metadata": {
        "colab": {
          "base_uri": "https://localhost:8080/"
        },
        "id": "lOctUDwRpDy7",
        "outputId": "5b250302-deaa-42d9-bd35-b2daaa6d56f5"
      },
      "execution_count": null,
      "outputs": [
        {
          "output_type": "stream",
          "name": "stdout",
          "text": [
            "   user_id  weight  height  salads_per_week  veggies_fruits_per_day  \\\n",
            "0       55   140.0    69.0              0.0                2.140921   \n",
            "1       36   150.0    67.0              2.0                1.000000   \n",
            "2       39   105.0    66.0              0.0                2.000000   \n",
            "3       37   220.0    77.0              2.0                5.000000   \n",
            "4       72   135.0    62.0              0.0                1.000000   \n",
            "\n",
            "    healthy_diet  aerobic_per_week  sports_per_week current_smoking  \\\n",
            "0  Below average               2.0              0.0           Never   \n",
            "1  Below average               3.0              3.0           Never   \n",
            "2        Average               1.0              0.0           Never   \n",
            "3   Very healthy               5.0              5.0           Never   \n",
            "4      Unhealthy               0.0              0.0           Never   \n",
            "\n",
            "   survey.month  prob_cancer cancer_category  height_cm  \n",
            "0       2008.09     0.066120        Very Low     175.26  \n",
            "1       2008.09     0.366939             Low     170.18  \n",
            "2       2008.09     0.805540       Very High     167.64  \n",
            "3       2008.09     0.537907        Moderate     195.58  \n",
            "4       2008.09     0.098464        Very Low     157.48  \n"
          ]
        },
        {
          "output_type": "stream",
          "name": "stderr",
          "text": [
            "<ipython-input-4-f0c44d074949>:2: FutureWarning: The default value of numeric_only in DataFrame.mean is deprecated. In a future version, it will default to False. In addition, specifying 'numeric_only=None' is deprecated. Select only valid columns or specify the value of numeric_only to silence this warning.\n",
            "  mean_values = cancer_df.mean()\n"
          ]
        }
      ]
    },
    {
      "cell_type": "markdown",
      "source": [
        "e) Remove additional columns.\n",
        "\n"
      ],
      "metadata": {
        "id": "72dig1WVpetp"
      }
    },
    {
      "cell_type": "code",
      "source": [
        "# List of additional columns to be removed\n",
        "additional_columns = ['weight', 'salads_per_week', 'veggies_fruits_per_day' , 'user_id', 'prob_cancer']\n",
        "\n",
        "# Drop the additional columns from the dataframe\n",
        "cancer_df.drop(columns=additional_columns, inplace=True)\n",
        "\n",
        "# Display the updated dataset\n",
        "print(cancer_df.head())"
      ],
      "metadata": {
        "colab": {
          "base_uri": "https://localhost:8080/"
        },
        "id": "YdJQ62GJpe4e",
        "outputId": "6a7ba94d-b9c3-49a5-e357-a9c1b8fa19ca"
      },
      "execution_count": null,
      "outputs": [
        {
          "output_type": "stream",
          "name": "stdout",
          "text": [
            "   height   healthy_diet  aerobic_per_week  sports_per_week current_smoking  \\\n",
            "0    69.0  Below average               2.0              0.0           Never   \n",
            "1    67.0  Below average               3.0              3.0           Never   \n",
            "2    66.0        Average               1.0              0.0           Never   \n",
            "3    77.0   Very healthy               5.0              5.0           Never   \n",
            "4    62.0      Unhealthy               0.0              0.0           Never   \n",
            "\n",
            "   survey.month cancer_category  height_cm  \n",
            "0       2008.09        Very Low     175.26  \n",
            "1       2008.09             Low     170.18  \n",
            "2       2008.09       Very High     167.64  \n",
            "3       2008.09        Moderate     195.58  \n",
            "4       2008.09        Very Low     157.48  \n"
          ]
        }
      ]
    },
    {
      "cell_type": "markdown",
      "source": [
        "f) Divide the data into two parts of training and testing (70/30) and standardize the data."
      ],
      "metadata": {
        "id": "UCoK7hOSp3oG"
      }
    },
    {
      "cell_type": "code",
      "source": [
        "import pandas as pd\n",
        "from sklearn.model_selection import train_test_split\n",
        "from sklearn.preprocessing import StandardScaler , OneHotEncoder, LabelEncoder\n",
        "\n",
        "\n",
        "# Label encode current_smoking column\n",
        "le = LabelEncoder()\n",
        "cancer_df['current_smoking'] = le.fit_transform(cancer_df['current_smoking'])\n",
        "\n",
        "# One-hot encode categorical columns\n",
        "categorical_cols = ['healthy_diet', 'cancer_category']\n",
        "encoder = OneHotEncoder()\n",
        "cancer_df_encoded = pd.get_dummies(cancer_df, columns=categorical_cols)\n",
        "\n",
        "# Divide the data into training and testing sets (70/30 split)\n",
        "X = cancer_df_encoded.drop(columns=['cancer_category_Very High'])  # Exclude one category as reference\n",
        "y = cancer_df_encoded['cancer_category_Very High']\n",
        "X_train, X_test, y_train, y_test = train_test_split(X, y, test_size=0.3, random_state=42)\n",
        "\n",
        "# Standardize the data\n",
        "scaler = StandardScaler()\n",
        "X_train_scaled = scaler.fit_transform(X_train)\n",
        "X_test_scaled = scaler.transform(X_test)\n"
      ],
      "metadata": {
        "id": "Aswr_iaTp3vy"
      },
      "execution_count": null,
      "outputs": []
    },
    {
      "cell_type": "markdown",
      "source": [
        "g) Train the data using the knn algorithm with k=5 and classify it."
      ],
      "metadata": {
        "id": "2a521Xw-s9UY"
      }
    },
    {
      "cell_type": "code",
      "source": [
        "from sklearn.neighbors import KNeighborsClassifier\n",
        "\n",
        "\n",
        "# Create KNN classifier with k=5\n",
        "knn = KNeighborsClassifier(n_neighbors=5)\n",
        "\n",
        "# Train the model on the scaled training data\n",
        "knn.fit(X_train_scaled, y_train)\n",
        "\n",
        "# Make predictions on the scaled testing data\n",
        "y_pred = knn.predict(X_test_scaled)"
      ],
      "metadata": {
        "id": "Jp5ia6s6tNqd"
      },
      "execution_count": null,
      "outputs": []
    },
    {
      "cell_type": "markdown",
      "source": [
        "h) Obtain the Confusion matrix, R2_Score, and Accuracy."
      ],
      "metadata": {
        "id": "ngpXQ_tptMbo"
      }
    },
    {
      "cell_type": "code",
      "source": [
        "from sklearn.metrics import confusion_matrix, r2_score, accuracy_score\n",
        "\n",
        "# Obtain confusion matrix\n",
        "cm = confusion_matrix(y_test, y_pred)\n",
        "print(\"Confusion Matrix:\")\n",
        "print(cm)\n",
        "\n",
        "# Calculate R2 score\n",
        "r2 = r2_score(y_test, y_pred)\n",
        "print(\"R2 Score:\", r2)\n",
        "\n",
        "# Calculate accuracy\n",
        "accuracy = accuracy_score(y_test, y_pred)\n",
        "print(\"Accuracy:\", accuracy)\n"
      ],
      "metadata": {
        "colab": {
          "base_uri": "https://localhost:8080/"
        },
        "id": "sb9CoHBas9cI",
        "outputId": "583532ff-99f5-4ef3-a323-09410ff95919"
      },
      "execution_count": null,
      "outputs": [
        {
          "output_type": "stream",
          "name": "stdout",
          "text": [
            "Confusion Matrix:\n",
            "[[87  4]\n",
            " [ 4 19]]\n",
            "R2 Score: 0.5642618251313904\n",
            "Accuracy: 0.9298245614035088\n"
          ]
        }
      ]
    },
    {
      "cell_type": "markdown",
      "source": [
        "i) Try another Preprocessing methods to improve results."
      ],
      "metadata": {
        "id": "3Ew3K0jmteug"
      }
    },
    {
      "cell_type": "code",
      "source": [
        "import pandas as pd\n",
        "import numpy as np\n",
        "from sklearn.model_selection import train_test_split\n",
        "from sklearn.preprocessing import StandardScaler, OneHotEncoder\n",
        "from sklearn.neighbors import KNeighborsClassifier\n",
        "from sklearn.metrics import confusion_matrix, accuracy_score, r2_score\n",
        "\n",
        "# Load the data\n",
        "df = pd.read_csv('cancer.csv' , delimiter='\\t' )\n",
        "\n",
        "# Convert cancer probability to 5 categories\n",
        "df['cancer_category'] = pd.cut(df['prob_cancer'], bins=[0, 0.2, 0.4, 0.6, 0.8, 1.0],\n",
        "                               labels=['very low', 'low', 'medium', 'high', 'very high'])\n",
        "\n",
        "# Drop irrelevant columns\n",
        "df = df.drop(columns=['user_id', 'survey.month', 'prob_cancer'])\n",
        "\n",
        "# Fill missing values with the mean\n",
        "df = df.fillna(df.mean())\n",
        "\n",
        "# Drop rows with missing or invalid data in current_smoking column\n",
        "df = df.dropna(subset=['current_smoking'])\n",
        "\n",
        "# Convert height to centimeters\n",
        "df['height'] = np.where(df['height'] > 100, df['height'], df['height']*100)\n",
        "\n",
        "# One-hot encode categorical columns\n",
        "categorical_cols = ['healthy_diet']\n",
        "encoder = OneHotEncoder()\n",
        "# fit and transform the data\n",
        "X_encoded = encoder.fit_transform(X)\n",
        "\n",
        "# get the feature names after one-hot encoding\n",
        "onehot_cols = encoder.get_feature_names_out(X.columns)\n",
        "\n",
        "df = pd.concat([df, onehot_cols], axis=1)\n",
        "df = df.drop(columns=categorical_cols)\n",
        "\n",
        "# Split data into train and test sets\n",
        "X = df.drop(columns=['cancer_category'])\n",
        "y = df['cancer_category']\n",
        "X_train, X_test, y_train, y_test = train_test_split(X, y, test_size=0.3, random_state=42)\n",
        "\n",
        "# Standardize the data\n",
        "scaler = StandardScaler()\n",
        "numerical_cols = ['weight', 'height', 'salads_per_week', 'veggies_fruits_per_day',\n",
        "                  'aerobic_per_week', 'sports_per_week']\n",
        "X_train[numerical_cols] = scaler.fit_transform(X_train[numerical_cols])\n",
        "X_test[numerical_cols] = scaler.transform(X_test[numerical_cols])\n",
        "\n",
        "# Train the KNN model\n",
        "knn = KNeighborsClassifier(n_neighbors=5)\n",
        "knn.fit(X_train, y_train)\n",
        "\n",
        "# Predict the test set\n",
        "y_pred = knn.predict(X_test)\n",
        "\n",
        "# Evaluate the model\n",
        "cm = confusion_matrix(y_test, y_pred)\n",
        "acc = accuracy_score(y_test, y_pred)\n",
        "r2 = r2_score(y_test, y_pred, multioutput='variance_weighted')\n",
        "\n",
        "print('Confusion Matrix:')\n",
        "print(cm)\n",
        "print('Accuracy:', acc)\n",
        "print('R2 Score:', r2)\n"
      ],
      "metadata": {
        "colab": {
          "base_uri": "https://localhost:8080/",
          "height": 453
        },
        "id": "0_v16wGate6E",
        "outputId": "a2a51d27-e81b-4859-88f2-4983476e18ae"
      },
      "execution_count": null,
      "outputs": [
        {
          "output_type": "stream",
          "name": "stderr",
          "text": [
            "<ipython-input-37-350655712a62>:19: FutureWarning: The default value of numeric_only in DataFrame.mean is deprecated. In a future version, it will default to False. In addition, specifying 'numeric_only=None' is deprecated. Select only valid columns or specify the value of numeric_only to silence this warning.\n",
            "  df = df.fillna(df.mean())\n"
          ]
        },
        {
          "output_type": "error",
          "ename": "TypeError",
          "evalue": "ignored",
          "traceback": [
            "\u001b[0;31m---------------------------------------------------------------------------\u001b[0m",
            "\u001b[0;31mTypeError\u001b[0m                                 Traceback (most recent call last)",
            "\u001b[0;32m<ipython-input-37-350655712a62>\u001b[0m in \u001b[0;36m<cell line: 35>\u001b[0;34m()\u001b[0m\n\u001b[1;32m     33\u001b[0m \u001b[0;31m# get the feature names after one-hot encoding\u001b[0m\u001b[0;34m\u001b[0m\u001b[0;34m\u001b[0m\u001b[0m\n\u001b[1;32m     34\u001b[0m \u001b[0monehot_cols\u001b[0m \u001b[0;34m=\u001b[0m \u001b[0mencoder\u001b[0m\u001b[0;34m.\u001b[0m\u001b[0mget_feature_names_out\u001b[0m\u001b[0;34m(\u001b[0m\u001b[0mX\u001b[0m\u001b[0;34m.\u001b[0m\u001b[0mcolumns\u001b[0m\u001b[0;34m)\u001b[0m\u001b[0;34m\u001b[0m\u001b[0;34m\u001b[0m\u001b[0m\n\u001b[0;32m---> 35\u001b[0;31m \u001b[0mdf\u001b[0m \u001b[0;34m=\u001b[0m \u001b[0mpd\u001b[0m\u001b[0;34m.\u001b[0m\u001b[0mconcat\u001b[0m\u001b[0;34m(\u001b[0m\u001b[0;34m[\u001b[0m\u001b[0mdf\u001b[0m\u001b[0;34m,\u001b[0m \u001b[0monehot_cols\u001b[0m\u001b[0;34m]\u001b[0m\u001b[0;34m,\u001b[0m \u001b[0maxis\u001b[0m\u001b[0;34m=\u001b[0m\u001b[0;36m1\u001b[0m\u001b[0;34m)\u001b[0m\u001b[0;34m\u001b[0m\u001b[0;34m\u001b[0m\u001b[0m\n\u001b[0m\u001b[1;32m     36\u001b[0m \u001b[0mdf\u001b[0m \u001b[0;34m=\u001b[0m \u001b[0mdf\u001b[0m\u001b[0;34m.\u001b[0m\u001b[0mdrop\u001b[0m\u001b[0;34m(\u001b[0m\u001b[0mcolumns\u001b[0m\u001b[0;34m=\u001b[0m\u001b[0mcategorical_cols\u001b[0m\u001b[0;34m)\u001b[0m\u001b[0;34m\u001b[0m\u001b[0;34m\u001b[0m\u001b[0m\n\u001b[1;32m     37\u001b[0m \u001b[0;34m\u001b[0m\u001b[0m\n",
            "\u001b[0;32m/usr/local/lib/python3.9/dist-packages/pandas/util/_decorators.py\u001b[0m in \u001b[0;36mwrapper\u001b[0;34m(*args, **kwargs)\u001b[0m\n\u001b[1;32m    329\u001b[0m                     \u001b[0mstacklevel\u001b[0m\u001b[0;34m=\u001b[0m\u001b[0mfind_stack_level\u001b[0m\u001b[0;34m(\u001b[0m\u001b[0;34m)\u001b[0m\u001b[0;34m,\u001b[0m\u001b[0;34m\u001b[0m\u001b[0;34m\u001b[0m\u001b[0m\n\u001b[1;32m    330\u001b[0m                 )\n\u001b[0;32m--> 331\u001b[0;31m             \u001b[0;32mreturn\u001b[0m \u001b[0mfunc\u001b[0m\u001b[0;34m(\u001b[0m\u001b[0;34m*\u001b[0m\u001b[0margs\u001b[0m\u001b[0;34m,\u001b[0m \u001b[0;34m**\u001b[0m\u001b[0mkwargs\u001b[0m\u001b[0;34m)\u001b[0m\u001b[0;34m\u001b[0m\u001b[0;34m\u001b[0m\u001b[0m\n\u001b[0m\u001b[1;32m    332\u001b[0m \u001b[0;34m\u001b[0m\u001b[0m\n\u001b[1;32m    333\u001b[0m         \u001b[0;31m# error: \"Callable[[VarArg(Any), KwArg(Any)], Any]\" has no\u001b[0m\u001b[0;34m\u001b[0m\u001b[0;34m\u001b[0m\u001b[0m\n",
            "\u001b[0;32m/usr/local/lib/python3.9/dist-packages/pandas/core/reshape/concat.py\u001b[0m in \u001b[0;36mconcat\u001b[0;34m(objs, axis, join, ignore_index, keys, levels, names, verify_integrity, sort, copy)\u001b[0m\n\u001b[1;32m    366\u001b[0m     \u001b[0;36m1\u001b[0m   \u001b[0;36m3\u001b[0m   \u001b[0;36m4\u001b[0m\u001b[0;34m\u001b[0m\u001b[0;34m\u001b[0m\u001b[0m\n\u001b[1;32m    367\u001b[0m     \"\"\"\n\u001b[0;32m--> 368\u001b[0;31m     op = _Concatenator(\n\u001b[0m\u001b[1;32m    369\u001b[0m         \u001b[0mobjs\u001b[0m\u001b[0;34m,\u001b[0m\u001b[0;34m\u001b[0m\u001b[0;34m\u001b[0m\u001b[0m\n\u001b[1;32m    370\u001b[0m         \u001b[0maxis\u001b[0m\u001b[0;34m=\u001b[0m\u001b[0maxis\u001b[0m\u001b[0;34m,\u001b[0m\u001b[0;34m\u001b[0m\u001b[0;34m\u001b[0m\u001b[0m\n",
            "\u001b[0;32m/usr/local/lib/python3.9/dist-packages/pandas/core/reshape/concat.py\u001b[0m in \u001b[0;36m__init__\u001b[0;34m(self, objs, axis, join, keys, levels, names, ignore_index, verify_integrity, copy, sort)\u001b[0m\n\u001b[1;32m    456\u001b[0m                     \u001b[0;34m\"only Series and DataFrame objs are valid\"\u001b[0m\u001b[0;34m\u001b[0m\u001b[0;34m\u001b[0m\u001b[0m\n\u001b[1;32m    457\u001b[0m                 )\n\u001b[0;32m--> 458\u001b[0;31m                 \u001b[0;32mraise\u001b[0m \u001b[0mTypeError\u001b[0m\u001b[0;34m(\u001b[0m\u001b[0mmsg\u001b[0m\u001b[0;34m)\u001b[0m\u001b[0;34m\u001b[0m\u001b[0;34m\u001b[0m\u001b[0m\n\u001b[0m\u001b[1;32m    459\u001b[0m \u001b[0;34m\u001b[0m\u001b[0m\n\u001b[1;32m    460\u001b[0m             \u001b[0mndims\u001b[0m\u001b[0;34m.\u001b[0m\u001b[0madd\u001b[0m\u001b[0;34m(\u001b[0m\u001b[0mobj\u001b[0m\u001b[0;34m.\u001b[0m\u001b[0mndim\u001b[0m\u001b[0;34m)\u001b[0m\u001b[0;34m\u001b[0m\u001b[0;34m\u001b[0m\u001b[0m\n",
            "\u001b[0;31mTypeError\u001b[0m: cannot concatenate object of type '<class 'numpy.ndarray'>'; only Series and DataFrame objs are valid"
          ]
        }
      ]
    }
  ]
}