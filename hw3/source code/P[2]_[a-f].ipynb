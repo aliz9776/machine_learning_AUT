{
  "cells": [
    {
      "cell_type": "markdown",
      "metadata": {
        "id": "nQLmmt9N9RtW"
      },
      "source": [
        "**Problem 2: Forest Fire Classification**"
      ]
    },
    {
      "cell_type": "markdown",
      "metadata": {
        "id": "aO2AJuB_9WUG"
      },
      "source": [
        "The dataset is designed for binary classification of Fire and No-Fire detection in the forests landscape. You should do this classification using logistic regression. Do the following steps:"
      ]
    },
    {
      "cell_type": "markdown",
      "metadata": {
        "id": "n1qvzr9x9fb7"
      },
      "source": [
        "a) Pre-processing: The size of the images may be different. Resize them. Then normalize the images. Determine the target of each image. (We suggest using glob and OpenCV libraries)."
      ]
    },
    {
      "cell_type": "code",
      "execution_count": 34,
      "metadata": {
        "colab": {
          "base_uri": "https://localhost:8080/"
        },
        "id": "YIvvKDo0-BW-",
        "outputId": "7cdd3c47-b802-4caa-c927-8e79e614a412"
      },
      "outputs": [
        {
          "name": "stdout",
          "output_type": "stream",
          "text": [
            "Drive already mounted at /content/drive; to attempt to forcibly remount, call drive.mount(\"/content/drive\", force_remount=True).\n"
          ]
        }
      ],
      "source": [
        "from google.colab import drive\n",
        "drive.mount('/content/drive')"
      ]
    },
    {
      "cell_type": "code",
      "execution_count": 35,
      "metadata": {
        "id": "afeLzxZ_9D7p"
      },
      "outputs": [],
      "source": [
        "import glob\n",
        "import cv2\n",
        "import numpy as np\n",
        "\n",
        "dataset_path = '/content/drive/My Drive/fire_dataset'\n",
        "img_size = (64, 64)\n",
        "\n",
        "# get the file paths of all the fire and non-fire images in the dataset directory\n",
        "fire_image_files = glob.glob(f'{dataset_path}/fire_images/fire.*.png')\n",
        "non_fire_image_files = glob.glob(f'{dataset_path}/non_fire_images/non_fire.*.png')\n",
        "\n",
        "# load the images and their labels\n",
        "images = []\n",
        "labels = []\n",
        "\n",
        "for img_file in fire_image_files:\n",
        "    # load the image using OpenCV\n",
        "    img = cv2.imread(img_file)\n",
        "    # resize the image to the desired size\n",
        "    img = cv2.resize(img, img_size)\n",
        "    # normalize the pixel values to be between 0 and 1\n",
        "    img = img / 255.0\n",
        "    # add the image to the list of images\n",
        "    images.append(img)\n",
        "    # add the label to the list of labels\n",
        "    labels.append(1)\n",
        "\n",
        "for img_file in non_fire_image_files:\n",
        "    # load the image using OpenCV\n",
        "    img = cv2.imread(img_file)\n",
        "    # resize the image to the desired size\n",
        "    img = cv2.resize(img, img_size)\n",
        "    # normalize the pixel values to be between 0 and 1\n",
        "    img = img / 255.0\n",
        "    # add the image to the list of images\n",
        "    images.append(img)\n",
        "    # add the label to the list of labels\n",
        "    labels.append(0)\n",
        "\n",
        "# convert the images and labels to numpy arrays\n",
        "images = np.array(images)\n",
        "labels = np.array(labels)\n"
      ]
    },
    {
      "cell_type": "markdown",
      "metadata": {
        "id": "GFuUTckz9Pa2"
      },
      "source": [
        "b) Split the data into train and test."
      ]
    },
    {
      "cell_type": "code",
      "execution_count": 36,
      "metadata": {
        "colab": {
          "base_uri": "https://localhost:8080/"
        },
        "id": "UXeJgoQC9PjB",
        "outputId": "728aff8a-6670-4e3b-cf06-5793c625826e"
      },
      "outputs": [
        {
          "name": "stdout",
          "output_type": "stream",
          "text": [
            "Train set shape: (798, 12288) (798,)\n",
            "Test set shape: (200, 12288) (200,)\n"
          ]
        }
      ],
      "source": [
        "from sklearn.model_selection import train_test_split\n",
        "\n",
        "# Split the data into train and test sets with a 80:20 ratio\n",
        "X_train, X_test, y_train, y_test = train_test_split(images, labels, test_size=0.2, random_state=42)\n",
        "\n",
        "# reshape X_train and X_test to a 2D array\n",
        "\n",
        "X_train = X_train.reshape(X_train.shape[0], -1)\n",
        "\n",
        "X_test = X_test.reshape(X_test.shape[0], -1)\n",
        "\n",
        "# Print the shapes of the resulting train and test sets\n",
        "print(\"Train set shape:\", X_train.shape, y_train.shape)\n",
        "print(\"Test set shape:\", X_test.shape, y_test.shape)\n"
      ]
    },
    {
      "cell_type": "markdown",
      "metadata": {
        "id": "jxGBHjPmCLLj"
      },
      "source": [
        "c) Run logistic regression on train data."
      ]
    },
    {
      "cell_type": "code",
      "execution_count": 37,
      "metadata": {
        "colab": {
          "base_uri": "https://localhost:8080/",
          "height": 218
        },
        "id": "dQFtBVOsCLtW",
        "outputId": "7396352c-6831-41b0-e42c-0f38a260dbf9"
      },
      "outputs": [
        {
          "name": "stderr",
          "output_type": "stream",
          "text": [
            "/usr/local/lib/python3.10/dist-packages/sklearn/linear_model/_logistic.py:458: ConvergenceWarning: lbfgs failed to converge (status=1):\n",
            "STOP: TOTAL NO. of ITERATIONS REACHED LIMIT.\n",
            "\n",
            "Increase the number of iterations (max_iter) or scale the data as shown in:\n",
            "    https://scikit-learn.org/stable/modules/preprocessing.html\n",
            "Please also refer to the documentation for alternative solver options:\n",
            "    https://scikit-learn.org/stable/modules/linear_model.html#logistic-regression\n",
            "  n_iter_i = _check_optimize_result(\n"
          ]
        },
        {
          "data": {
            "text/html": [
              "<style>#sk-container-id-3 {color: black;background-color: white;}#sk-container-id-3 pre{padding: 0;}#sk-container-id-3 div.sk-toggleable {background-color: white;}#sk-container-id-3 label.sk-toggleable__label {cursor: pointer;display: block;width: 100%;margin-bottom: 0;padding: 0.3em;box-sizing: border-box;text-align: center;}#sk-container-id-3 label.sk-toggleable__label-arrow:before {content: \"▸\";float: left;margin-right: 0.25em;color: #696969;}#sk-container-id-3 label.sk-toggleable__label-arrow:hover:before {color: black;}#sk-container-id-3 div.sk-estimator:hover label.sk-toggleable__label-arrow:before {color: black;}#sk-container-id-3 div.sk-toggleable__content {max-height: 0;max-width: 0;overflow: hidden;text-align: left;background-color: #f0f8ff;}#sk-container-id-3 div.sk-toggleable__content pre {margin: 0.2em;color: black;border-radius: 0.25em;background-color: #f0f8ff;}#sk-container-id-3 input.sk-toggleable__control:checked~div.sk-toggleable__content {max-height: 200px;max-width: 100%;overflow: auto;}#sk-container-id-3 input.sk-toggleable__control:checked~label.sk-toggleable__label-arrow:before {content: \"▾\";}#sk-container-id-3 div.sk-estimator input.sk-toggleable__control:checked~label.sk-toggleable__label {background-color: #d4ebff;}#sk-container-id-3 div.sk-label input.sk-toggleable__control:checked~label.sk-toggleable__label {background-color: #d4ebff;}#sk-container-id-3 input.sk-hidden--visually {border: 0;clip: rect(1px 1px 1px 1px);clip: rect(1px, 1px, 1px, 1px);height: 1px;margin: -1px;overflow: hidden;padding: 0;position: absolute;width: 1px;}#sk-container-id-3 div.sk-estimator {font-family: monospace;background-color: #f0f8ff;border: 1px dotted black;border-radius: 0.25em;box-sizing: border-box;margin-bottom: 0.5em;}#sk-container-id-3 div.sk-estimator:hover {background-color: #d4ebff;}#sk-container-id-3 div.sk-parallel-item::after {content: \"\";width: 100%;border-bottom: 1px solid gray;flex-grow: 1;}#sk-container-id-3 div.sk-label:hover label.sk-toggleable__label {background-color: #d4ebff;}#sk-container-id-3 div.sk-serial::before {content: \"\";position: absolute;border-left: 1px solid gray;box-sizing: border-box;top: 0;bottom: 0;left: 50%;z-index: 0;}#sk-container-id-3 div.sk-serial {display: flex;flex-direction: column;align-items: center;background-color: white;padding-right: 0.2em;padding-left: 0.2em;position: relative;}#sk-container-id-3 div.sk-item {position: relative;z-index: 1;}#sk-container-id-3 div.sk-parallel {display: flex;align-items: stretch;justify-content: center;background-color: white;position: relative;}#sk-container-id-3 div.sk-item::before, #sk-container-id-3 div.sk-parallel-item::before {content: \"\";position: absolute;border-left: 1px solid gray;box-sizing: border-box;top: 0;bottom: 0;left: 50%;z-index: -1;}#sk-container-id-3 div.sk-parallel-item {display: flex;flex-direction: column;z-index: 1;position: relative;background-color: white;}#sk-container-id-3 div.sk-parallel-item:first-child::after {align-self: flex-end;width: 50%;}#sk-container-id-3 div.sk-parallel-item:last-child::after {align-self: flex-start;width: 50%;}#sk-container-id-3 div.sk-parallel-item:only-child::after {width: 0;}#sk-container-id-3 div.sk-dashed-wrapped {border: 1px dashed gray;margin: 0 0.4em 0.5em 0.4em;box-sizing: border-box;padding-bottom: 0.4em;background-color: white;}#sk-container-id-3 div.sk-label label {font-family: monospace;font-weight: bold;display: inline-block;line-height: 1.2em;}#sk-container-id-3 div.sk-label-container {text-align: center;}#sk-container-id-3 div.sk-container {/* jupyter's `normalize.less` sets `[hidden] { display: none; }` but bootstrap.min.css set `[hidden] { display: none !important; }` so we also need the `!important` here to be able to override the default hidden behavior on the sphinx rendered scikit-learn.org. See: https://github.com/scikit-learn/scikit-learn/issues/21755 */display: inline-block !important;position: relative;}#sk-container-id-3 div.sk-text-repr-fallback {display: none;}</style><div id=\"sk-container-id-3\" class=\"sk-top-container\"><div class=\"sk-text-repr-fallback\"><pre>LogisticRegression()</pre><b>In a Jupyter environment, please rerun this cell to show the HTML representation or trust the notebook. <br />On GitHub, the HTML representation is unable to render, please try loading this page with nbviewer.org.</b></div><div class=\"sk-container\" hidden><div class=\"sk-item\"><div class=\"sk-estimator sk-toggleable\"><input class=\"sk-toggleable__control sk-hidden--visually\" id=\"sk-estimator-id-3\" type=\"checkbox\" checked><label for=\"sk-estimator-id-3\" class=\"sk-toggleable__label sk-toggleable__label-arrow\">LogisticRegression</label><div class=\"sk-toggleable__content\"><pre>LogisticRegression()</pre></div></div></div></div></div>"
            ],
            "text/plain": [
              "LogisticRegression()"
            ]
          },
          "execution_count": 37,
          "metadata": {},
          "output_type": "execute_result"
        }
      ],
      "source": [
        "from sklearn.linear_model import LogisticRegression\n",
        "\n",
        "# create a logistic regression model object\n",
        "model = LogisticRegression()\n",
        "\n",
        "# train the model on the training data\n",
        "model.fit(X_train, y_train)\n"
      ]
    },
    {
      "cell_type": "markdown",
      "metadata": {
        "id": "EAjwzTSPDUj7"
      },
      "source": [
        "d) Report accuracy and confusion matrix for test data."
      ]
    },
    {
      "cell_type": "code",
      "execution_count": 38,
      "metadata": {
        "colab": {
          "base_uri": "https://localhost:8080/"
        },
        "id": "Hh9Cpq-ICLhs",
        "outputId": "c715707c-07db-4e26-d962-0d66d2d9a786"
      },
      "outputs": [
        {
          "name": "stdout",
          "output_type": "stream",
          "text": [
            "Accuracy: 0.925\n",
            "Confusion Matrix:\n",
            "[[ 46   8]\n",
            " [  7 139]]\n"
          ]
        }
      ],
      "source": [
        "from sklearn.metrics import accuracy_score, confusion_matrix\n",
        "\n",
        "# use the trained model to make predictions on the test data\n",
        "y_pred = model.predict(X_test)\n",
        "\n",
        "# compute the accuracy score of the model on the test data\n",
        "acc_score = accuracy_score(y_test, y_pred)\n",
        "print('Accuracy:', acc_score)\n",
        "\n",
        "# compute the confusion matrix of the model on the test data\n",
        "cm = confusion_matrix(y_test, y_pred)\n",
        "print('Confusion Matrix:')\n",
        "print(cm)\n"
      ]
    },
    {
      "cell_type": "markdown",
      "metadata": {
        "id": "zK7ZWH36Esun"
      },
      "source": [
        "e) Find the best probability threshold for the training data and report the accuracy and confusion matrix again. Did the results improve?"
      ]
    },
    {
      "cell_type": "code",
      "execution_count": 39,
      "metadata": {
        "colab": {
          "base_uri": "https://localhost:8080/"
        },
        "id": "iKJ4fc4qU5Qj",
        "outputId": "b1bef967-c9a3-4cfb-8f4c-b0f179a54d89"
      },
      "outputs": [
        {
          "name": "stdout",
          "output_type": "stream",
          "text": [
            "Test accuracy: 0.9\n",
            "Test confusion matrix:\n",
            " [[ 35  19]\n",
            " [  1 145]]\n"
          ]
        }
      ],
      "source": [
        "import numpy as np\n",
        "import matplotlib.pyplot as plt\n",
        "from sklearn.metrics import roc_curve, roc_auc_score\n",
        "\n",
        "probs = model.predict_proba(X_train)\n",
        "thresholds = np.linspace(0, 1, 101)\n",
        "\n",
        "best_acc = 0\n",
        "best_threshold = 0\n",
        "\n",
        "for threshold in thresholds:\n",
        "    y_pred = (probs[:,1] > threshold).astype(int)\n",
        "    acc = accuracy_score(y_train, y_pred)\n",
        "    if acc > best_acc:\n",
        "        best_acc = acc\n",
        "        best_threshold = threshold\n",
        "\n",
        "probs_test = model.predict_proba(X_test)\n",
        "y_pred_test = (probs_test[:,1] > best_threshold).astype(int)\n",
        "\n",
        "acc_test = accuracy_score(y_test, y_pred_test)\n",
        "cm_test = confusion_matrix(y_test, y_pred_test)\n",
        "\n",
        "print(\"Test accuracy:\", acc_test)\n",
        "print(\"Test confusion matrix:\\n\", cm_test)\n"
      ]
    },
    {
      "cell_type": "markdown",
      "metadata": {
        "id": "id6A2cMhLrOc"
      },
      "source": [
        "f)Save the best model. import this model to another file (e.g., classifier.py). Download some forest images (fire and non-fire). feed this image to your classifier and make a prediction. Finally, show the label of each image with its probability in the photo. If the photo was fire, with red color, otherwise green color (similar to below)."
      ]
    },
    {
      "cell_type": "code",
      "execution_count": 41,
      "metadata": {
        "colab": {
          "base_uri": "https://localhost:8080/"
        },
        "id": "XdegWHoqLrX0",
        "outputId": "55b2bfcd-208a-4321-b92d-be6d988d5b75"
      },
      "outputs": [
        {
          "name": "stderr",
          "output_type": "stream",
          "text": [
            "/usr/local/lib/python3.10/dist-packages/sklearn/linear_model/_sag.py:350: ConvergenceWarning: The max_iter was reached which means the coef_ did not converge\n",
            "  warnings.warn(\n",
            "/usr/local/lib/python3.10/dist-packages/sklearn/linear_model/_sag.py:350: ConvergenceWarning: The max_iter was reached which means the coef_ did not converge\n",
            "  warnings.warn(\n",
            "/usr/local/lib/python3.10/dist-packages/sklearn/linear_model/_sag.py:350: ConvergenceWarning: The max_iter was reached which means the coef_ did not converge\n",
            "  warnings.warn(\n",
            "/usr/local/lib/python3.10/dist-packages/sklearn/linear_model/_sag.py:350: ConvergenceWarning: The max_iter was reached which means the coef_ did not converge\n",
            "  warnings.warn(\n",
            "/usr/local/lib/python3.10/dist-packages/sklearn/linear_model/_sag.py:350: ConvergenceWarning: The max_iter was reached which means the coef_ did not converge\n",
            "  warnings.warn(\n",
            "/usr/local/lib/python3.10/dist-packages/sklearn/linear_model/_sag.py:350: ConvergenceWarning: The max_iter was reached which means the coef_ did not converge\n",
            "  warnings.warn(\n",
            "/usr/local/lib/python3.10/dist-packages/sklearn/linear_model/_sag.py:350: ConvergenceWarning: The max_iter was reached which means the coef_ did not converge\n",
            "  warnings.warn(\n",
            "/usr/local/lib/python3.10/dist-packages/sklearn/linear_model/_sag.py:350: ConvergenceWarning: The max_iter was reached which means the coef_ did not converge\n",
            "  warnings.warn(\n",
            "/usr/local/lib/python3.10/dist-packages/sklearn/linear_model/_sag.py:350: ConvergenceWarning: The max_iter was reached which means the coef_ did not converge\n",
            "  warnings.warn(\n",
            "/usr/local/lib/python3.10/dist-packages/sklearn/linear_model/_sag.py:350: ConvergenceWarning: The max_iter was reached which means the coef_ did not converge\n",
            "  warnings.warn(\n",
            "/usr/local/lib/python3.10/dist-packages/sklearn/linear_model/_sag.py:350: ConvergenceWarning: The max_iter was reached which means the coef_ did not converge\n",
            "  warnings.warn(\n"
          ]
        },
        {
          "data": {
            "text/plain": [
              "['best_model.joblib']"
            ]
          },
          "execution_count": 41,
          "metadata": {},
          "output_type": "execute_result"
        }
      ],
      "source": [
        "from sklearn.linear_model import LogisticRegression\n",
        "from sklearn.model_selection import GridSearchCV\n",
        "from joblib import dump\n",
        "\n",
        "\n",
        "# define the hyperparameter grid with \n",
        "param_grid = {\n",
        "    'C': [0.1, 1],\n",
        "    'penalty': ['l2'],\n",
        "    'solver': ['liblinear', 'saga']\n",
        "}\n",
        "\n",
        "# create a logistic regression object\n",
        "model = LogisticRegression()\n",
        "\n",
        "# perform grid search over the hyperparameter grid\n",
        "grid = GridSearchCV(model, param_grid, cv=5)\n",
        "grid.fit(X_train, y_train)\n",
        "\n",
        "# get the best model\n",
        "best_model = grid.best_estimator_\n",
        "\n",
        "# save the best model to a file\n",
        "dump(best_model, 'best_model.joblib')\n"
      ]
    }
  ],
  "metadata": {
    "colab": {
      "provenance": []
    },
    "kernelspec": {
      "display_name": "Python 3",
      "name": "python3"
    },
    "language_info": {
      "name": "python"
    }
  },
  "nbformat": 4,
  "nbformat_minor": 0
}
