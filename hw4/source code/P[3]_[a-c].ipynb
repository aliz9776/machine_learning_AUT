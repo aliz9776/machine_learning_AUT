{
  "cells": [
    {
      "cell_type": "markdown",
      "source": [
        "**Problem 3: Credit Card Fraud | SVM**"
      ],
      "metadata": {
        "id": "QcvSSEwdl7Jt"
      }
    },
    {
      "cell_type": "code",
      "source": [
        "from google.colab import drive\n",
        "\n",
        "# Mount Google Drive\n",
        "drive.mount('/content/drive')"
      ],
      "metadata": {
        "colab": {
          "base_uri": "https://localhost:8080/"
        },
        "id": "hkUm6LqIZ_Ev",
        "outputId": "baa04686-2639-4148-94cb-6d6c3858edcc"
      },
      "execution_count": 89,
      "outputs": [
        {
          "output_type": "stream",
          "name": "stdout",
          "text": [
            "Drive already mounted at /content/drive; to attempt to forcibly remount, call drive.mount(\"/content/drive\", force_remount=True).\n"
          ]
        }
      ]
    },
    {
      "cell_type": "code",
      "source": [
        "file_path = '/content/drive/MyDrive/creditcard.rar'\n"
      ],
      "metadata": {
        "id": "Uyz3OskpaBo2"
      },
      "execution_count": 90,
      "outputs": []
    },
    {
      "cell_type": "code",
      "source": [
        "import patoolib\n",
        "\n",
        "# Specify the path to the downloaded RAR file\n",
        "rar_path = file_path\n",
        "\n",
        "# Extract all files from the RAR archive\n",
        "patoolib.extract_archive(rar_path, outdir='/content/')"
      ],
      "metadata": {
        "colab": {
          "base_uri": "https://localhost:8080/",
          "height": 408
        },
        "id": "1_otiRsVaBvP",
        "outputId": "f74e1d22-5dba-4c1b-d9d5-18a69dfe3097"
      },
      "execution_count": 91,
      "outputs": [
        {
          "output_type": "stream",
          "name": "stdout",
          "text": [
            "patool: Extracting /content/drive/MyDrive/creditcard.rar ...\n",
            "patool: running /usr/bin/unrar x -- /content/drive/MyDrive/creditcard.rar\n",
            "patool:     with cwd='/content/'\n"
          ]
        },
        {
          "output_type": "error",
          "ename": "PatoolError",
          "evalue": "ignored",
          "traceback": [
            "\u001b[0;31m---------------------------------------------------------------------------\u001b[0m",
            "\u001b[0;31mPatoolError\u001b[0m                               Traceback (most recent call last)",
            "\u001b[0;32m<ipython-input-91-4867ad227c7c>\u001b[0m in \u001b[0;36m<cell line: 7>\u001b[0;34m()\u001b[0m\n\u001b[1;32m      5\u001b[0m \u001b[0;34m\u001b[0m\u001b[0m\n\u001b[1;32m      6\u001b[0m \u001b[0;31m# Extract all files from the RAR archive\u001b[0m\u001b[0;34m\u001b[0m\u001b[0;34m\u001b[0m\u001b[0m\n\u001b[0;32m----> 7\u001b[0;31m \u001b[0mpatoolib\u001b[0m\u001b[0;34m.\u001b[0m\u001b[0mextract_archive\u001b[0m\u001b[0;34m(\u001b[0m\u001b[0mrar_path\u001b[0m\u001b[0;34m,\u001b[0m \u001b[0moutdir\u001b[0m\u001b[0;34m=\u001b[0m\u001b[0;34m'/content/'\u001b[0m\u001b[0;34m)\u001b[0m\u001b[0;34m\u001b[0m\u001b[0;34m\u001b[0m\u001b[0m\n\u001b[0m",
            "\u001b[0;32m/usr/local/lib/python3.10/dist-packages/patoolib/__init__.py\u001b[0m in \u001b[0;36mextract_archive\u001b[0;34m(archive, verbosity, outdir, program, interactive)\u001b[0m\n\u001b[1;32m    682\u001b[0m     \u001b[0;32mif\u001b[0m \u001b[0mverbosity\u001b[0m \u001b[0;34m>=\u001b[0m \u001b[0;36m0\u001b[0m\u001b[0;34m:\u001b[0m\u001b[0;34m\u001b[0m\u001b[0;34m\u001b[0m\u001b[0m\n\u001b[1;32m    683\u001b[0m         \u001b[0mutil\u001b[0m\u001b[0;34m.\u001b[0m\u001b[0mlog_info\u001b[0m\u001b[0;34m(\u001b[0m\u001b[0;34m\"Extracting %s ...\"\u001b[0m \u001b[0;34m%\u001b[0m \u001b[0marchive\u001b[0m\u001b[0;34m)\u001b[0m\u001b[0;34m\u001b[0m\u001b[0;34m\u001b[0m\u001b[0m\n\u001b[0;32m--> 684\u001b[0;31m     \u001b[0;32mreturn\u001b[0m \u001b[0m_extract_archive\u001b[0m\u001b[0;34m(\u001b[0m\u001b[0marchive\u001b[0m\u001b[0;34m,\u001b[0m \u001b[0mverbosity\u001b[0m\u001b[0;34m=\u001b[0m\u001b[0mverbosity\u001b[0m\u001b[0;34m,\u001b[0m \u001b[0minteractive\u001b[0m\u001b[0;34m=\u001b[0m\u001b[0minteractive\u001b[0m\u001b[0;34m,\u001b[0m \u001b[0moutdir\u001b[0m\u001b[0;34m=\u001b[0m\u001b[0moutdir\u001b[0m\u001b[0;34m,\u001b[0m \u001b[0mprogram\u001b[0m\u001b[0;34m=\u001b[0m\u001b[0mprogram\u001b[0m\u001b[0;34m)\u001b[0m\u001b[0;34m\u001b[0m\u001b[0;34m\u001b[0m\u001b[0m\n\u001b[0m\u001b[1;32m    685\u001b[0m \u001b[0;34m\u001b[0m\u001b[0m\n\u001b[1;32m    686\u001b[0m \u001b[0;34m\u001b[0m\u001b[0m\n",
            "\u001b[0;32m/usr/local/lib/python3.10/dist-packages/patoolib/__init__.py\u001b[0m in \u001b[0;36m_extract_archive\u001b[0;34m(archive, verbosity, interactive, outdir, program, format, compression)\u001b[0m\n\u001b[1;32m    482\u001b[0m             \u001b[0;31m# already handled the command (eg. when it's a builtin Python\u001b[0m\u001b[0;34m\u001b[0m\u001b[0;34m\u001b[0m\u001b[0m\n\u001b[1;32m    483\u001b[0m             \u001b[0;31m# function)\u001b[0m\u001b[0;34m\u001b[0m\u001b[0;34m\u001b[0m\u001b[0m\n\u001b[0;32m--> 484\u001b[0;31m             \u001b[0mrun_archive_cmdlist\u001b[0m\u001b[0;34m(\u001b[0m\u001b[0mcmdlist\u001b[0m\u001b[0;34m,\u001b[0m \u001b[0mverbosity\u001b[0m\u001b[0;34m=\u001b[0m\u001b[0mverbosity\u001b[0m\u001b[0;34m)\u001b[0m\u001b[0;34m\u001b[0m\u001b[0;34m\u001b[0m\u001b[0m\n\u001b[0m\u001b[1;32m    485\u001b[0m         \u001b[0;32mif\u001b[0m \u001b[0mdo_cleanup_outdir\u001b[0m\u001b[0;34m:\u001b[0m\u001b[0;34m\u001b[0m\u001b[0;34m\u001b[0m\u001b[0m\n\u001b[1;32m    486\u001b[0m             \u001b[0mtarget\u001b[0m\u001b[0;34m,\u001b[0m \u001b[0mmsg\u001b[0m \u001b[0;34m=\u001b[0m \u001b[0mcleanup_outdir\u001b[0m\u001b[0;34m(\u001b[0m\u001b[0moutdir\u001b[0m\u001b[0;34m,\u001b[0m \u001b[0marchive\u001b[0m\u001b[0;34m)\u001b[0m\u001b[0;34m\u001b[0m\u001b[0;34m\u001b[0m\u001b[0m\n",
            "\u001b[0;32m/usr/local/lib/python3.10/dist-packages/patoolib/__init__.py\u001b[0m in \u001b[0;36mrun_archive_cmdlist\u001b[0;34m(archive_cmdlist, verbosity)\u001b[0m\n\u001b[1;32m    419\u001b[0m     \u001b[0;32melse\u001b[0m\u001b[0;34m:\u001b[0m\u001b[0;34m\u001b[0m\u001b[0;34m\u001b[0m\u001b[0m\n\u001b[1;32m    420\u001b[0m         \u001b[0mcmdlist\u001b[0m\u001b[0;34m,\u001b[0m \u001b[0mrunkwargs\u001b[0m \u001b[0;34m=\u001b[0m \u001b[0marchive_cmdlist\u001b[0m\u001b[0;34m,\u001b[0m \u001b[0;34m{\u001b[0m\u001b[0;34m}\u001b[0m\u001b[0;34m\u001b[0m\u001b[0;34m\u001b[0m\u001b[0m\n\u001b[0;32m--> 421\u001b[0;31m     \u001b[0;32mreturn\u001b[0m \u001b[0mutil\u001b[0m\u001b[0;34m.\u001b[0m\u001b[0mrun_checked\u001b[0m\u001b[0;34m(\u001b[0m\u001b[0mcmdlist\u001b[0m\u001b[0;34m,\u001b[0m \u001b[0mverbosity\u001b[0m\u001b[0;34m=\u001b[0m\u001b[0mverbosity\u001b[0m\u001b[0;34m,\u001b[0m \u001b[0;34m**\u001b[0m\u001b[0mrunkwargs\u001b[0m\u001b[0;34m)\u001b[0m\u001b[0;34m\u001b[0m\u001b[0;34m\u001b[0m\u001b[0m\n\u001b[0m\u001b[1;32m    422\u001b[0m \u001b[0;34m\u001b[0m\u001b[0m\n\u001b[1;32m    423\u001b[0m \u001b[0;34m\u001b[0m\u001b[0m\n",
            "\u001b[0;32m/usr/local/lib/python3.10/dist-packages/patoolib/util.py\u001b[0m in \u001b[0;36mrun_checked\u001b[0;34m(cmd, ret_ok, **kwargs)\u001b[0m\n\u001b[1;32m    225\u001b[0m     \u001b[0;32mif\u001b[0m \u001b[0mretcode\u001b[0m \u001b[0;32mnot\u001b[0m \u001b[0;32min\u001b[0m \u001b[0mret_ok\u001b[0m\u001b[0;34m:\u001b[0m\u001b[0;34m\u001b[0m\u001b[0;34m\u001b[0m\u001b[0m\n\u001b[1;32m    226\u001b[0m         \u001b[0mmsg\u001b[0m \u001b[0;34m=\u001b[0m \u001b[0;34m\"Command `%s' returned non-zero exit status %d\"\u001b[0m \u001b[0;34m%\u001b[0m \u001b[0;34m(\u001b[0m\u001b[0mcmd\u001b[0m\u001b[0;34m,\u001b[0m \u001b[0mretcode\u001b[0m\u001b[0;34m)\u001b[0m\u001b[0;34m\u001b[0m\u001b[0;34m\u001b[0m\u001b[0m\n\u001b[0;32m--> 227\u001b[0;31m         \u001b[0;32mraise\u001b[0m \u001b[0mPatoolError\u001b[0m\u001b[0;34m(\u001b[0m\u001b[0mmsg\u001b[0m\u001b[0;34m)\u001b[0m\u001b[0;34m\u001b[0m\u001b[0;34m\u001b[0m\u001b[0m\n\u001b[0m\u001b[1;32m    228\u001b[0m     \u001b[0;32mreturn\u001b[0m \u001b[0mretcode\u001b[0m\u001b[0;34m\u001b[0m\u001b[0;34m\u001b[0m\u001b[0m\n\u001b[1;32m    229\u001b[0m \u001b[0;34m\u001b[0m\u001b[0m\n",
            "\u001b[0;31mPatoolError\u001b[0m: Command `['/usr/bin/unrar', 'x', '--', '/content/drive/MyDrive/creditcard.rar']' returned non-zero exit status 255"
          ]
        }
      ]
    },
    {
      "cell_type": "markdown",
      "source": [
        "a) Load data set and split the dataset into 80% training data and 20% validation data then Implement the SVM algorithm on the training data and tune the parameters to achieve the best performance"
      ],
      "metadata": {
        "id": "QmWgdglXkLeo"
      }
    },
    {
      "cell_type": "code",
      "execution_count": 101,
      "metadata": {
        "id": "F-Ud22_u5iFh",
        "colab": {
          "base_uri": "https://localhost:8080/"
        },
        "outputId": "c2495b51-ddfb-443a-e7f0-2582a005154f"
      },
      "outputs": [
        {
          "output_type": "stream",
          "name": "stdout",
          "text": [
            "            Time        V1        V2        V3        V4        V5        V6  \\\n",
            "27322    34501.0 -1.413437  0.581796  1.644620 -1.496490 -0.235255 -0.056796   \n",
            "258660  158756.0 -0.174574  1.024532 -1.436532 -0.502308 -0.131019  0.388579   \n",
            "116255   74203.0  1.271681  0.259960 -0.080704  0.449564  0.195874 -0.129810   \n",
            "148167   89505.0 -0.272799  1.055515 -1.041490 -0.737320  1.567775 -1.023466   \n",
            "93534    64472.0  1.122450 -0.461956  1.248189  0.116328 -1.324130 -0.264058   \n",
            "...          ...       ...       ...       ...       ...       ...       ...   \n",
            "274767  166195.0 -0.074949 -0.581335  0.003563 -3.129617  0.036601 -0.499372   \n",
            "174211  121820.0  0.315677  0.792154 -1.980506  0.166049  2.757871  3.954494   \n",
            "108876   71116.0 -0.778253  0.130171  2.330368  1.743399 -0.602476  0.995023   \n",
            "88007    61944.0 -2.242599  0.091694  1.335811  0.234568  1.097002  0.989207   \n",
            "279854  169135.0 -1.196644  1.930087 -3.515438 -1.333896  3.579285  2.453577   \n",
            "\n",
            "              V7        V8        V9  ...       V21       V22       V23  \\\n",
            "27322  -0.111106  0.699455 -0.322807  ...  0.059273 -0.101605 -0.208913   \n",
            "258660  2.286333 -0.416885 -0.213208  ...  0.202530  1.001318 -0.255119   \n",
            "116255 -0.030286  0.006589  0.134451  ... -0.318739 -0.896338  0.058693   \n",
            "148167  1.522059 -0.194304 -0.534714  ... -0.023241 -0.125451 -0.304109   \n",
            "93534  -0.787128  0.190215  0.868902  ... -0.045374 -0.034349  0.060295   \n",
            "...          ...       ...       ...  ...       ...       ...       ...   \n",
            "274767  1.168465 -0.567473 -2.543754  ... -0.191524 -0.295463  0.258634   \n",
            "174211  0.249410 -0.094461 -0.726462  ...  0.913951  0.397564  0.173827   \n",
            "108876  0.315305  0.375928  0.519821  ... -0.253331 -0.519313  0.220585   \n",
            "88007  -0.325398 -0.368086  0.275580  ...  0.594285 -0.007640 -0.503496   \n",
            "279854  0.393479  1.501623 -1.140802  ...  0.070668  0.031609 -0.362972   \n",
            "\n",
            "             V24       V25       V26       V27       V28  Amount  Class  \n",
            "27322  -0.474100  0.254391  0.906417  0.070263  0.000679   43.25      0  \n",
            "258660 -1.068085 -0.196966 -0.112331  0.313474  0.059902  307.12      0  \n",
            "116255 -0.815832  0.244528  0.177240 -0.009805  0.018245    1.98      0  \n",
            "148167  0.174054  0.588906  0.655595  0.137166  0.069171   35.80      0  \n",
            "93534   0.602987  0.035725  0.959490 -0.043459  0.010801   27.74      0  \n",
            "...          ...       ...       ...       ...       ...     ...    ...  \n",
            "274767  0.362665 -0.364318 -0.530294 -0.069398 -0.036795  150.00      0  \n",
            "174211  0.772716 -1.150774  0.645484  0.347398  0.256834   49.00      0  \n",
            "108876  0.059610 -0.079110 -0.389913  0.152509  0.133106  126.25      0  \n",
            "88007  -0.533261 -0.520751  0.270840 -0.005266 -0.658016   10.67      0  \n",
            "279854  0.529802  0.358193  0.705651 -0.031975  0.087211    0.76      0  \n",
            "\n",
            "[10000 rows x 31 columns]\n"
          ]
        }
      ],
      "source": [
        "import pandas as pd\n",
        "\n",
        "\n",
        "df = pd.read_csv('creditcard.csv')\n",
        "\n",
        "\n",
        "class_0 = df[df['Class'] == 0]\n",
        "class_1 = df[df['Class'] == 1]\n",
        "\n",
        "num_samples_class_0 = int(0.99 * 10000)  # 99% of 10,000\n",
        "num_samples_class_1 = 10000 - num_samples_class_0  # 1% of 10,000\n",
        "\n",
        "sample_0 = class_0.sample(n=num_samples_class_0, random_state=42)\n",
        "\n",
        "\n",
        "sample_1 = class_1.sample(n=num_samples_class_1, random_state=42)\n",
        "\n",
        "# Combine\n",
        "sample_df = pd.concat([sample_0, sample_1])\n",
        "\n",
        "# Shuffle the combined sample\n",
        "credit_sample = sample_df.sample(frac=1, random_state=42)\n",
        "\n",
        "print(credit_sample)"
      ]
    },
    {
      "cell_type": "code",
      "execution_count": 93,
      "metadata": {
        "id": "oH8yDmLsNcdU",
        "colab": {
          "base_uri": "https://localhost:8080/"
        },
        "outputId": "8985f620-9237-4289-a2f4-395962a79c22"
      },
      "outputs": [
        {
          "output_type": "stream",
          "name": "stdout",
          "text": [
            "10000\n"
          ]
        }
      ],
      "source": [
        "print(len(credit_sample))"
      ]
    },
    {
      "cell_type": "markdown",
      "source": [
        "b) What is one-class SVM and how can it be used in outlier detection? run the one-class SVM on training data. (Set the nu, kernel and gamma)."
      ],
      "metadata": {
        "id": "lfb2Ye5ZkSEv"
      }
    },
    {
      "cell_type": "code",
      "execution_count": 94,
      "metadata": {
        "id": "Aa14tRsrN1pD",
        "colab": {
          "base_uri": "https://localhost:8080/"
        },
        "outputId": "6c8aa48d-b21d-4332-fd54-238c3d3db783"
      },
      "outputs": [
        {
          "output_type": "stream",
          "name": "stderr",
          "text": [
            "<ipython-input-94-c0962b906d64>:12: SettingWithCopyWarning: \n",
            "A value is trying to be set on a copy of a slice from a DataFrame\n",
            "\n",
            "See the caveats in the documentation: https://pandas.pydata.org/pandas-docs/stable/user_guide/indexing.html#returning-a-view-versus-a-copy\n",
            "  target[target == 0] = -1\n"
          ]
        }
      ],
      "source": [
        "from sklearn.svm import OneClassSVM\n",
        "from sklearn.preprocessing import StandardScaler\n",
        "\n",
        "from sklearn.model_selection import train_test_split, GridSearchCV\n",
        "from sklearn.svm import SVC\n",
        "from sklearn.metrics import accuracy_score\n",
        "\n",
        "X = credit_sample.drop('Class', axis=1)\n",
        "target = credit_sample['Class']\n",
        "\n",
        "# Convert labels to -1 (outliers) and 1 (normal)\n",
        "target[target == 0] = -1\n",
        "\n",
        "# Feature Scaling\n",
        "scaler = StandardScaler()\n",
        "X = scaler.fit_transform(X)\n",
        "\n",
        "# Split the data into training and validation sets\n",
        "X_train, X_val, target_train, target_val = train_test_split(X, target, test_size=0.2, random_state=42)\n",
        "\n",
        "\n",
        "\n",
        "# One-Class SVM model\n",
        "one_class_svm = OneClassSVM()\n",
        "\n",
        "#parametr tuning\n",
        "param_grid = {\n",
        "    'gamma': [0.01, 0.1, 1, 10],\n",
        "    'kernel': ['linear', 'rbf', 'poly'],\n",
        "    'nu': [0.01, 0.05, 0.1, 0.2]\n",
        "}\n"
      ]
    },
    {
      "cell_type": "code",
      "source": [
        "\n",
        "# Perform grid search to find the best parameters\n",
        "grid_search = GridSearchCV(one_class_svm, param_grid, scoring='accuracy', cv=5)\n",
        "grid_search.fit(X_train, target_train)\n",
        "\n",
        "# Get the best parameters and model\n",
        "best_params = grid_search.best_params_\n",
        "\n",
        "\n",
        "print(\"best parametrs : \\n\")\n",
        "print(best_params)"
      ],
      "metadata": {
        "colab": {
          "base_uri": "https://localhost:8080/"
        },
        "id": "uG6yn6NwiDDY",
        "outputId": "ee5c1bfa-d161-46fc-b810-4a7e6bfdc6d6"
      },
      "execution_count": 95,
      "outputs": [
        {
          "output_type": "stream",
          "name": "stdout",
          "text": [
            "best parametrs : \n",
            "\n",
            "{'gamma': 10, 'kernel': 'rbf', 'nu': 0.2}\n"
          ]
        }
      ]
    },
    {
      "cell_type": "markdown",
      "source": [
        "c) Make outlier predictions on the validation dataset. Which of the metrics such as precision, recall, etc. can show how accurately our model was able to detect outlier data? Explain your reasons."
      ],
      "metadata": {
        "id": "uE9plUyGkkLH"
      }
    },
    {
      "cell_type": "code",
      "source": [
        "import pandas as pd\n",
        "from sklearn.svm import OneClassSVM\n",
        "\n",
        "\n",
        "\n",
        "# Instantiate the One-Class SVM model\n",
        "one_class_svm = OneClassSVM(nu=0.2, kernel='rbf', gamma=10)\n",
        "\n",
        "# Fit the One-Class SVM on the training data\n",
        "one_class_svm.fit(X)\n",
        "\n",
        "\n",
        "\n"
      ],
      "metadata": {
        "id": "rNCPOAsimsB5",
        "colab": {
          "base_uri": "https://localhost:8080/",
          "height": 75
        },
        "outputId": "8936ab03-fc9d-4b86-85e5-6e1fb80908c2"
      },
      "execution_count": 98,
      "outputs": [
        {
          "output_type": "execute_result",
          "data": {
            "text/plain": [
              "OneClassSVM(gamma=10, nu=0.2)"
            ],
            "text/html": [
              "<style>#sk-container-id-14 {color: black;background-color: white;}#sk-container-id-14 pre{padding: 0;}#sk-container-id-14 div.sk-toggleable {background-color: white;}#sk-container-id-14 label.sk-toggleable__label {cursor: pointer;display: block;width: 100%;margin-bottom: 0;padding: 0.3em;box-sizing: border-box;text-align: center;}#sk-container-id-14 label.sk-toggleable__label-arrow:before {content: \"▸\";float: left;margin-right: 0.25em;color: #696969;}#sk-container-id-14 label.sk-toggleable__label-arrow:hover:before {color: black;}#sk-container-id-14 div.sk-estimator:hover label.sk-toggleable__label-arrow:before {color: black;}#sk-container-id-14 div.sk-toggleable__content {max-height: 0;max-width: 0;overflow: hidden;text-align: left;background-color: #f0f8ff;}#sk-container-id-14 div.sk-toggleable__content pre {margin: 0.2em;color: black;border-radius: 0.25em;background-color: #f0f8ff;}#sk-container-id-14 input.sk-toggleable__control:checked~div.sk-toggleable__content {max-height: 200px;max-width: 100%;overflow: auto;}#sk-container-id-14 input.sk-toggleable__control:checked~label.sk-toggleable__label-arrow:before {content: \"▾\";}#sk-container-id-14 div.sk-estimator input.sk-toggleable__control:checked~label.sk-toggleable__label {background-color: #d4ebff;}#sk-container-id-14 div.sk-label input.sk-toggleable__control:checked~label.sk-toggleable__label {background-color: #d4ebff;}#sk-container-id-14 input.sk-hidden--visually {border: 0;clip: rect(1px 1px 1px 1px);clip: rect(1px, 1px, 1px, 1px);height: 1px;margin: -1px;overflow: hidden;padding: 0;position: absolute;width: 1px;}#sk-container-id-14 div.sk-estimator {font-family: monospace;background-color: #f0f8ff;border: 1px dotted black;border-radius: 0.25em;box-sizing: border-box;margin-bottom: 0.5em;}#sk-container-id-14 div.sk-estimator:hover {background-color: #d4ebff;}#sk-container-id-14 div.sk-parallel-item::after {content: \"\";width: 100%;border-bottom: 1px solid gray;flex-grow: 1;}#sk-container-id-14 div.sk-label:hover label.sk-toggleable__label {background-color: #d4ebff;}#sk-container-id-14 div.sk-serial::before {content: \"\";position: absolute;border-left: 1px solid gray;box-sizing: border-box;top: 0;bottom: 0;left: 50%;z-index: 0;}#sk-container-id-14 div.sk-serial {display: flex;flex-direction: column;align-items: center;background-color: white;padding-right: 0.2em;padding-left: 0.2em;position: relative;}#sk-container-id-14 div.sk-item {position: relative;z-index: 1;}#sk-container-id-14 div.sk-parallel {display: flex;align-items: stretch;justify-content: center;background-color: white;position: relative;}#sk-container-id-14 div.sk-item::before, #sk-container-id-14 div.sk-parallel-item::before {content: \"\";position: absolute;border-left: 1px solid gray;box-sizing: border-box;top: 0;bottom: 0;left: 50%;z-index: -1;}#sk-container-id-14 div.sk-parallel-item {display: flex;flex-direction: column;z-index: 1;position: relative;background-color: white;}#sk-container-id-14 div.sk-parallel-item:first-child::after {align-self: flex-end;width: 50%;}#sk-container-id-14 div.sk-parallel-item:last-child::after {align-self: flex-start;width: 50%;}#sk-container-id-14 div.sk-parallel-item:only-child::after {width: 0;}#sk-container-id-14 div.sk-dashed-wrapped {border: 1px dashed gray;margin: 0 0.4em 0.5em 0.4em;box-sizing: border-box;padding-bottom: 0.4em;background-color: white;}#sk-container-id-14 div.sk-label label {font-family: monospace;font-weight: bold;display: inline-block;line-height: 1.2em;}#sk-container-id-14 div.sk-label-container {text-align: center;}#sk-container-id-14 div.sk-container {/* jupyter's `normalize.less` sets `[hidden] { display: none; }` but bootstrap.min.css set `[hidden] { display: none !important; }` so we also need the `!important` here to be able to override the default hidden behavior on the sphinx rendered scikit-learn.org. See: https://github.com/scikit-learn/scikit-learn/issues/21755 */display: inline-block !important;position: relative;}#sk-container-id-14 div.sk-text-repr-fallback {display: none;}</style><div id=\"sk-container-id-14\" class=\"sk-top-container\"><div class=\"sk-text-repr-fallback\"><pre>OneClassSVM(gamma=10, nu=0.2)</pre><b>In a Jupyter environment, please rerun this cell to show the HTML representation or trust the notebook. <br />On GitHub, the HTML representation is unable to render, please try loading this page with nbviewer.org.</b></div><div class=\"sk-container\" hidden><div class=\"sk-item\"><div class=\"sk-estimator sk-toggleable\"><input class=\"sk-toggleable__control sk-hidden--visually\" id=\"sk-estimator-id-14\" type=\"checkbox\" checked><label for=\"sk-estimator-id-14\" class=\"sk-toggleable__label sk-toggleable__label-arrow\">OneClassSVM</label><div class=\"sk-toggleable__content\"><pre>OneClassSVM(gamma=10, nu=0.2)</pre></div></div></div></div></div>"
            ]
          },
          "metadata": {},
          "execution_count": 98
        }
      ]
    },
    {
      "cell_type": "code",
      "source": [
        "from sklearn.metrics import precision_score, recall_score, f1_score\n",
        "import numpy as np\n",
        "# Predict the labels for the validation data\n",
        "target_valid_pred = one_class_svm.predict(X_val)\n",
        "\n",
        "\n",
        "\n",
        "\n",
        "\n",
        "# Compute precision, recall, and F1-score\n",
        "precision = precision_score(target_val, target_valid_pred, average='weighted')\n",
        "recall = recall_score(target_val, target_valid_pred, average='weighted')\n",
        "f1 = f1_score(target_val, target_valid_pred, average='weighted')\n",
        "\n",
        "print(\"Precision:\", precision)\n",
        "print(\"Recall:\", recall)\n",
        "print(\"F1-score:\", f1)"
      ],
      "metadata": {
        "colab": {
          "base_uri": "https://localhost:8080/"
        },
        "id": "UK0RRXouf9hc",
        "outputId": "c8f5e480-4bd9-461d-93c5-a4963c67e471"
      },
      "execution_count": 100,
      "outputs": [
        {
          "output_type": "stream",
          "name": "stdout",
          "text": [
            "Precision: 0.9806657916981805\n",
            "Recall: 0.4125\n",
            "F1-score: 0.5735046281519312\n"
          ]
        }
      ]
    }
  ],
  "metadata": {
    "colab": {
      "provenance": []
    },
    "kernelspec": {
      "display_name": "Python 3",
      "name": "python3"
    },
    "language_info": {
      "name": "python"
    }
  },
  "nbformat": 4,
  "nbformat_minor": 0
}