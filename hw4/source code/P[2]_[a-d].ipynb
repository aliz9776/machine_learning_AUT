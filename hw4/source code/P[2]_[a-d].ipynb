{
  "nbformat": 4,
  "nbformat_minor": 0,
  "metadata": {
    "colab": {
      "provenance": []
    },
    "kernelspec": {
      "name": "python3",
      "display_name": "Python 3"
    },
    "language_info": {
      "name": "python"
    }
  },
  "cells": [
    {
      "cell_type": "markdown",
      "source": [
        "**Problem 2: Custom Dataset | SVM**"
      ],
      "metadata": {
        "id": "Y4a8kHdalHnC"
      }
    },
    {
      "cell_type": "markdown",
      "source": [
        "a) Use the make_classification function to generate a custom dataset. split the dataset into 80% training data and 20% validation data."
      ],
      "metadata": {
        "id": "MLzCErUDNUcE"
      }
    },
    {
      "cell_type": "code",
      "execution_count": 6,
      "metadata": {
        "id": "bqvqRJZLLaCO"
      },
      "outputs": [],
      "source": [
        "from sklearn.datasets import load_iris\n",
        "from sklearn.model_selection import train_test_split, GridSearchCV\n",
        "\n",
        "#  Load the Iris dataset\n",
        "iris = load_iris()\n",
        "X, target = iris.data, iris.target\n",
        "\n",
        "# Split dataset into training and test data\n",
        "X_train, X_test, target_train, target_test = train_test_split(X, target , test_size=0.2, random_state=42)"
      ]
    },
    {
      "cell_type": "markdown",
      "source": [
        "b) Get the best parameters for the model using svm and grid search."
      ],
      "metadata": {
        "id": "THG0KXxxNVuC"
      }
    },
    {
      "cell_type": "code",
      "source": [
        "from sklearn.svm import SVC\n",
        "\n",
        "# Define the parameter grid for grid search\n",
        "parameter_grid = {'C': [0.1, 1, 10], 'kernel': ['linear', 'rbf'], 'gamma': [  0.1, 0.01, 0.001  ]}\n",
        "\n",
        "# Perform grid search with SVM\n",
        "svm_model = SVC()\n",
        "grid_search = GridSearchCV(svm_model, parameter_grid, cv=5)\n",
        "grid_search.fit(X_train, target_train)\n",
        "\n",
        "# Get the best parameters\n",
        "best_parameters = grid_search.best_params_\n",
        "print(\"Best parameters:\", best_parameters)"
      ],
      "metadata": {
        "colab": {
          "base_uri": "https://localhost:8080/"
        },
        "id": "aKPRHkTzNSDx",
        "outputId": "04afffd3-6e4e-42f0-e603-0b24991d8db5"
      },
      "execution_count": 2,
      "outputs": [
        {
          "output_type": "stream",
          "name": "stdout",
          "text": [
            "Best parameters: {'C': 1, 'gamma': 0.1, 'kernel': 'linear'}\n"
          ]
        }
      ]
    },
    {
      "cell_type": "markdown",
      "source": [
        "d) Model your dataset with mkl and get the desired outputs such as precision, recall, etc."
      ],
      "metadata": {
        "id": "Y69wK_IrPaq1"
      }
    },
    {
      "cell_type": "code",
      "source": [
        "pip install MKLpy"
      ],
      "metadata": {
        "colab": {
          "base_uri": "https://localhost:8080/"
        },
        "id": "c6he-5lkSTyD",
        "outputId": "8db29b02-2666-4b6c-f024-f955491d414a"
      },
      "execution_count": 3,
      "outputs": [
        {
          "output_type": "stream",
          "name": "stdout",
          "text": [
            "Collecting MKLpy\n",
            "  Downloading MKLpy-0.6.tar.gz (22 kB)\n",
            "  Preparing metadata (setup.py) ... \u001b[?25l\u001b[?25hdone\n",
            "Requirement already satisfied: numpy in /usr/local/lib/python3.10/dist-packages (from MKLpy) (1.22.4)\n",
            "Requirement already satisfied: torch in /usr/local/lib/python3.10/dist-packages (from MKLpy) (2.0.1+cu118)\n",
            "Requirement already satisfied: cvxopt in /usr/local/lib/python3.10/dist-packages (from MKLpy) (1.3.1)\n",
            "Requirement already satisfied: scikit-learn in /usr/local/lib/python3.10/dist-packages (from MKLpy) (1.2.2)\n",
            "Requirement already satisfied: scipy>=1.3.2 in /usr/local/lib/python3.10/dist-packages (from scikit-learn->MKLpy) (1.10.1)\n",
            "Requirement already satisfied: joblib>=1.1.1 in /usr/local/lib/python3.10/dist-packages (from scikit-learn->MKLpy) (1.2.0)\n",
            "Requirement already satisfied: threadpoolctl>=2.0.0 in /usr/local/lib/python3.10/dist-packages (from scikit-learn->MKLpy) (3.1.0)\n",
            "Requirement already satisfied: filelock in /usr/local/lib/python3.10/dist-packages (from torch->MKLpy) (3.12.2)\n",
            "Requirement already satisfied: typing-extensions in /usr/local/lib/python3.10/dist-packages (from torch->MKLpy) (4.6.3)\n",
            "Requirement already satisfied: sympy in /usr/local/lib/python3.10/dist-packages (from torch->MKLpy) (1.11.1)\n",
            "Requirement already satisfied: networkx in /usr/local/lib/python3.10/dist-packages (from torch->MKLpy) (3.1)\n",
            "Requirement already satisfied: jinja2 in /usr/local/lib/python3.10/dist-packages (from torch->MKLpy) (3.1.2)\n",
            "Requirement already satisfied: triton==2.0.0 in /usr/local/lib/python3.10/dist-packages (from torch->MKLpy) (2.0.0)\n",
            "Requirement already satisfied: cmake in /usr/local/lib/python3.10/dist-packages (from triton==2.0.0->torch->MKLpy) (3.25.2)\n",
            "Requirement already satisfied: lit in /usr/local/lib/python3.10/dist-packages (from triton==2.0.0->torch->MKLpy) (16.0.6)\n",
            "Requirement already satisfied: MarkupSafe>=2.0 in /usr/local/lib/python3.10/dist-packages (from jinja2->torch->MKLpy) (2.1.3)\n",
            "Requirement already satisfied: mpmath>=0.19 in /usr/local/lib/python3.10/dist-packages (from sympy->torch->MKLpy) (1.3.0)\n",
            "Building wheels for collected packages: MKLpy\n",
            "  Building wheel for MKLpy (setup.py) ... \u001b[?25l\u001b[?25hdone\n",
            "  Created wheel for MKLpy: filename=MKLpy-0.6-py3-none-any.whl size=39049 sha256=e0cc93ddaf447d2df8a0a384d0d3a1fc733e7ce9ef91d473860e59819ea0e92c\n",
            "  Stored in directory: /root/.cache/pip/wheels/ae/34/97/0d7f453a37165bd1e0a94627ec225b1b6d19ecb3c24ce1edf2\n",
            "Successfully built MKLpy\n",
            "Installing collected packages: MKLpy\n",
            "Successfully installed MKLpy-0.6\n"
          ]
        }
      ]
    },
    {
      "cell_type": "markdown",
      "source": [
        "d) Model your dataset with mkl and get the desired outputs such as precision, recall, etc."
      ],
      "metadata": {
        "id": "ecEtFGCcatRW"
      }
    },
    {
      "cell_type": "code",
      "source": [
        "from MKLpy.algorithms import EasyMKL\n",
        "from MKLpy.algorithms import AverageMKL\n",
        "from MKLpy.model_selection import train_test_split\n",
        "from sklearn.metrics.pairwise import linear_kernel , rbf_kernel\n",
        "from MKLpy.preprocessing import kernel_normalization\n",
        "from sklearn.metrics import precision_score, recall_score\n",
        "from MKLpy.preprocessing import kernel_normalization\n",
        "\n",
        "\n",
        "#kernels\n",
        "\n",
        "KL = [linear_kernel(X), rbf_kernel(X, gamma=0.01)]\n",
        "\n",
        "\n",
        "# base kernels are normalize to prevent scaling and numerical issues\n",
        "\n",
        "KL_norm = [kernel_normalization(K) for K in KL]\n",
        "\n",
        "# Split dataset into training and test data (80/20)\n",
        "\n",
        "X_train, X_test, target_train, target_test = train_test_split(KL_norm, target , test_size=.2, random_state=42)\n",
        "\n",
        "# Create an instance of AverageMKL and fit the data\n",
        "mkl = AverageMKL()\n",
        "mkl.fit(X_train, target_train)\n",
        "\n",
        "# Predict the output class for the test data\n",
        "y_pred_test = mkl.predict(X_test)\n",
        "\n",
        "# Calculate precision and recall for test data\n",
        "precision_test = precision_score(target_test, y_pred_test, average='weighted')\n",
        "recall_test = recall_score(target_test, y_pred_test, average='weighted')\n",
        "\n",
        "print(\"Test Data:\")\n",
        "print(\"Precision:\", precision_test)\n",
        "print(\"Recall:\", recall_test)\n",
        "\n",
        "\n"
      ],
      "metadata": {
        "colab": {
          "base_uri": "https://localhost:8080/"
        },
        "id": "4dfq2HTkPax-",
        "outputId": "efdacf7f-6ab9-44b2-90a2-54ade3ea50f1"
      },
      "execution_count": 5,
      "outputs": [
        {
          "output_type": "stream",
          "name": "stdout",
          "text": [
            "Test Data:\n",
            "Precision: 1.0\n",
            "Recall: 1.0\n"
          ]
        }
      ]
    }
  ]
}